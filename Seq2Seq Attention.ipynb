{
 "cells": [
  {
   "cell_type": "markdown",
   "metadata": {},
   "source": [
    "# Goal\n",
    "\n",
    "We will attemp to convert English into Pig Latin.  We will use the Text8 data as a corpus of text.  The modeling will be done using a sequence of characters and the input sequence will be the sequence of characters for one word.  We will use the method described [here](https://papers.nips.cc/paper/5346-sequence-to-sequence-learning-with-neural-networks.pdf) \n",
    "\n",
    "<img src=\"S2S.png\">"
   ]
  },
  {
   "cell_type": "markdown",
   "metadata": {},
   "source": [
    "Attention: https://arxiv.org/pdf/1412.7449.pdf"
   ]
  },
  {
   "cell_type": "markdown",
   "metadata": {},
   "source": [
    "# Import functions"
   ]
  },
  {
   "cell_type": "code",
   "execution_count": 1,
   "metadata": {
    "collapsed": true
   },
   "outputs": [],
   "source": [
    "import pickle\n",
    "import tensorflow as tf\n",
    "import numpy as np\n",
    "import string\n",
    "from tqdm import tqdm\n",
    "import os\n",
    "from matplotlib import pyplot as plt\n",
    "%matplotlib inline"
   ]
  },
  {
   "cell_type": "markdown",
   "metadata": {},
   "source": [
    "# Import data"
   ]
  },
  {
   "cell_type": "code",
   "execution_count": 2,
   "metadata": {
    "collapsed": true
   },
   "outputs": [],
   "source": [
    "words = pickle.load(open('t8_words.p'))\n",
    "words_pl = pickle.load(open('t8_words_pl.p'))"
   ]
  },
  {
   "cell_type": "code",
   "execution_count": 3,
   "metadata": {},
   "outputs": [
    {
     "name": "stdout",
     "output_type": "stream",
     "text": [
      "[('biennials', 'iennialsbay'), ('tripolitan', 'ipolitantray'), ('mdbg', 'mdbgay'), ('roadgear', 'oadgearray'), ('vang', 'angvay'), ('nunnery', 'unnerynay'), ('sowell', 'owellsay'), ('brownpride', 'ownpridebray'), ('vani', 'anivay'), ('woods', 'oodsway')]\n"
     ]
    }
   ],
   "source": [
    "print zip(words[:10],words_pl[:10])"
   ]
  },
  {
   "cell_type": "markdown",
   "metadata": {},
   "source": [
    "# Create validation set\n",
    "\n",
    "Taken from [here](https://en.oxforddictionaries.com/explore/weird-and-wonderful-words)"
   ]
  },
  {
   "cell_type": "code",
   "execution_count": 4,
   "metadata": {
    "collapsed": true
   },
   "outputs": [],
   "source": [
    "def lessT(x):\n",
    "    if x <= 10:\n",
    "        return True\n",
    "    return False"
   ]
  },
  {
   "cell_type": "code",
   "execution_count": 5,
   "metadata": {
    "collapsed": true
   },
   "outputs": [],
   "source": [
    "uncommon = ['abaya','bardolatry','blatherski','couthy','deterge','eyewater','saudade',\n",
    "            'tokoloshe','wittol','vomitous','waitron']\n",
    "assert (not any([u in words for u in uncommon]))\n",
    "assert all(map(lessT,map(len,uncommon)))"
   ]
  },
  {
   "cell_type": "markdown",
   "metadata": {},
   "source": [
    "# Padding inputs and outputs\n",
    "\n",
    "There is no good way to handle sequences of multiple lengths (see [here](https://www.tensorflow.org/tutorials/seq2seq)).  So we pad inputs and outputs to fixed lengths."
   ]
  },
  {
   "cell_type": "code",
   "execution_count": 6,
   "metadata": {},
   "outputs": [
    {
     "name": "stdout",
     "output_type": "stream",
     "text": [
      "10 tripolitan\n"
     ]
    }
   ],
   "source": [
    "# find maximum length of input\n",
    "max_in = 0\n",
    "ind = 0\n",
    "for i,w in enumerate(words):\n",
    "    if len(w)> max_in:\n",
    "        max_in = len(w)\n",
    "        ind = i\n",
    "print max_in, words[ind]"
   ]
  },
  {
   "cell_type": "code",
   "execution_count": 7,
   "metadata": {},
   "outputs": [
    {
     "name": "stdout",
     "output_type": "stream",
     "text": [
      "13 altagraciaway\n"
     ]
    }
   ],
   "source": [
    "# find maximum length of input\n",
    "max_out = 0\n",
    "ind = 0\n",
    "for i,w in enumerate(words_pl):\n",
    "    if len(w)> max_out:\n",
    "        max_out = len(w)\n",
    "        ind = i\n",
    "print max_out, words_pl[ind]"
   ]
  },
  {
   "cell_type": "code",
   "execution_count": 8,
   "metadata": {
    "collapsed": true
   },
   "outputs": [],
   "source": [
    "pad_char = '~'\n",
    "def pad_in(w):\n",
    "    while(len(w)<max_in):\n",
    "        w = pad_char+w\n",
    "    return w\n",
    "\n",
    "def pad_out(w):\n",
    "    while(len(w)<max_out):\n",
    "        w = w+pad_char\n",
    "    return w\n",
    "\n",
    "def un_pad(w):\n",
    "    return w.replace(pad_char,'')"
   ]
  },
  {
   "cell_type": "code",
   "execution_count": 9,
   "metadata": {},
   "outputs": [
    {
     "name": "stdout",
     "output_type": "stream",
     "text": [
      "~biennials\n",
      "iennialsbay~~\n"
     ]
    }
   ],
   "source": [
    "print pad_in(words[0])\n",
    "print pad_out(words_pl[0])"
   ]
  },
  {
   "cell_type": "markdown",
   "metadata": {},
   "source": [
    "# Vectorize data"
   ]
  },
  {
   "cell_type": "code",
   "execution_count": 10,
   "metadata": {
    "collapsed": true
   },
   "outputs": [],
   "source": [
    "alphabet = string.ascii_lowercase+'~'\n",
    "alphabet_size = len(alphabet)+1 #need to add one for the end of sequence key\n",
    "\n",
    "#returns a unique integer for the letter\n",
    "def char2id(x):\n",
    "    return alphabet.find(x)\n",
    "\n",
    "#return a one hot encoded vector of the letter\n",
    "def one_hot(l):\n",
    "    r = np.zeros(alphabet_size)\n",
    "    r[char2id(l)] = 1.0\n",
    "    return r\n",
    "\n",
    "#return the letter of the one-hot encoded letter\n",
    "def un_one_hot(v):\n",
    "    ind = np.argmax(v)\n",
    "#     if ind >= alphabet_size-2:\n",
    "    if ind == alphabet_size-1:\n",
    "        return ''\n",
    "    else:\n",
    "        return alphabet[ind]\n",
    "\n",
    "#returns the the End of Sequence vector\n",
    "def getEOSvec():\n",
    "    r = np.zeros(alphabet_size)\n",
    "    r[alphabet_size-1] = 1.0\n",
    "    return r\n",
    "\n",
    "#returns the word a matrix of one hot encoded vectors\n",
    "def vectorizeWord(w):\n",
    "    r = np.ndarray((len(w)+1,alphabet_size))\n",
    "    for i,l in enumerate(w):\n",
    "        r[i] = one_hot(l)\n",
    "    r[len(w)] = getEOSvec()\n",
    "    return r\n",
    "\n",
    "#returns the string of the vectorized word\n",
    "def unvectorizeWord(M):\n",
    "    r = ''\n",
    "    for i in xrange(M.shape[0]):\n",
    "        r += un_one_hot(M[i])\n",
    "    return r"
   ]
  },
  {
   "cell_type": "markdown",
   "metadata": {},
   "source": [
    "# Batch Generator"
   ]
  },
  {
   "cell_type": "code",
   "execution_count": 11,
   "metadata": {
    "collapsed": true
   },
   "outputs": [],
   "source": [
    "batch_size=30"
   ]
  },
  {
   "cell_type": "code",
   "execution_count": 12,
   "metadata": {
    "collapsed": true
   },
   "outputs": [],
   "source": [
    "class Batch(object):\n",
    "    def __init__(self,words,words_pl,batch_size):\n",
    "        self.words = words\n",
    "        self.words_pl = words_pl\n",
    "        self.batch_size = batch_size\n",
    "        self.size = len(words)\n",
    "        self.segment_size = self.size/batch_size\n",
    "        self.cursors = [b*self.segment_size for b in range(batch_size)]\n",
    "        #self.batch = np.ndarray(self.batch_size)\n",
    "    def nextBatch(self,reverse = True):\n",
    "        if reverse:\n",
    "            x = np.array([vectorizeWord(pad_in(words[c][::-1])) for c in self.cursors])\n",
    "        else:\n",
    "            x = np.array([vectorizeWord(pad_in(words[c])) for c in self.cursors])\n",
    "        y = np.array([vectorizeWord(pad_out(words_pl[c])) for c in self.cursors])\n",
    "        self.cursors = [(c+1)%self.size for c in self.cursors]\n",
    "        return x,y"
   ]
  },
  {
   "cell_type": "markdown",
   "metadata": {},
   "source": [
    "# Deep LSTM\n",
    "\n",
    "https://arxiv.org/pdf/1409.2329.pdf\n",
    "\n",
    "<img src=\"OtherLSTM.png\">  <img src=\"stacked_LSTM.png\", width = \"25%\", height = \"25%\">"
   ]
  },
  {
   "cell_type": "code",
   "execution_count": 13,
   "metadata": {
    "collapsed": true
   },
   "outputs": [],
   "source": [
    "a1 = tf.constant([[1,2],[3,4]])\n",
    "b1 = tf.slice(a1,[0,0],[2,1])"
   ]
  },
  {
   "cell_type": "code",
   "execution_count": 14,
   "metadata": {},
   "outputs": [
    {
     "data": {
      "text/plain": [
       "array([[1],\n",
       "       [3]], dtype=int32)"
      ]
     },
     "execution_count": 14,
     "metadata": {},
     "output_type": "execute_result"
    }
   ],
   "source": [
    "sess2 = tf.Session()\n",
    "sess2.run(b1)"
   ]
  },
  {
   "cell_type": "code",
   "execution_count": 135,
   "metadata": {},
   "outputs": [
    {
     "name": "stdout",
     "output_type": "stream",
     "text": [
      "(11,)\n",
      "(11, 14)\n"
     ]
    }
   ],
   "source": [
    "#NOTE: the +1 in max_in+1 and max_out+1 happens because the end token is needed\n",
    "\n",
    "num_nodes = 30\n",
    "g = tf.Graph()\n",
    "with g.as_default():\n",
    "    #input sequence\n",
    "    input_sequence = list()\n",
    "    for i in range(max_in+1):\n",
    "        input_sequence.append(tf.placeholder(tf.float32,shape=(batch_size,alphabet_size)))\n",
    "    \n",
    "    #target sequence\n",
    "    target_sequence = list()\n",
    "    for i in range(max_out+1):\n",
    "        target_sequence.append(tf.placeholder(tf.float32,shape=(batch_size,alphabet_size)))\n",
    "        \n",
    "    \n",
    "    #the previous state that gets fed into the cell\n",
    "    state_0 = tf.constant(0.0,dtype=tf.float32,shape=[batch_size,num_nodes])\n",
    "    hidden_0 = tf.constant(0.0,dtype=tf.float32,shape=[batch_size,num_nodes])\n",
    "    #for validation inference\n",
    "    state_0v = tf.constant(0.0,dtype=tf.float32,shape=[1,num_nodes])\n",
    "    hidden_0v = tf.constant(0.0,dtype=tf.float32,shape=[1,num_nodes])\n",
    "    \n",
    "    def create_LSTM_Variables(num_nodes,Name,is_input=False,is_second=False):\n",
    "        if is_input:\n",
    "            fx = tf.Variable(tf.truncated_normal([num_nodes+alphabet_size, num_nodes], -0.08, 0.08),name=Name+'fx')\n",
    "            ix = tf.Variable(tf.truncated_normal([num_nodes+alphabet_size, num_nodes], -0.08, 0.08),name=Name+'ix')\n",
    "            cx = tf.Variable(tf.truncated_normal([num_nodes+alphabet_size, num_nodes], -0.08, 0.08),name=Name+'cx')\n",
    "            ox = tf.Variable(tf.truncated_normal([num_nodes+alphabet_size, num_nodes], -0.08, 0.08),name=Name+'ox')\n",
    "        elif is_second:\n",
    "            fx = tf.Variable(tf.truncated_normal([3*num_nodes, num_nodes], -0.08, 0.08),name=Name+'fx')\n",
    "            ix = tf.Variable(tf.truncated_normal([3*num_nodes, num_nodes], -0.08, 0.08),name=Name+'ix')\n",
    "            cx = tf.Variable(tf.truncated_normal([3*num_nodes, num_nodes], -0.08, 0.08),name=Name+'cx')\n",
    "            ox = tf.Variable(tf.truncated_normal([3*num_nodes, num_nodes], -0.08, 0.08),name=Name+'ox')\n",
    "        else:\n",
    "            fx = tf.Variable(tf.truncated_normal([2*num_nodes, num_nodes], -0.08, 0.08),name=Name+'fx')\n",
    "            ix = tf.Variable(tf.truncated_normal([2*num_nodes, num_nodes], -0.08, 0.08),name=Name+'ix')\n",
    "            cx = tf.Variable(tf.truncated_normal([2*num_nodes, num_nodes], -0.08, 0.08),name=Name+'cx')\n",
    "            ox = tf.Variable(tf.truncated_normal([2*num_nodes, num_nodes], -0.08, 0.08),name=Name+'ox')\n",
    "        fb = tf.Variable(tf.zeros([1, num_nodes]),name=Name+'fb')\n",
    "        ib = tf.Variable(tf.zeros([1, num_nodes]),name=Name+'ib')\n",
    "        cb = tf.Variable(tf.zeros([1, num_nodes]),name=Name+'cb')\n",
    "        ob = tf.Variable(tf.zeros([1, num_nodes]),name=Name+'ob')\n",
    "        return[[fx,ix,cx,ox],[fb,ib,cb,ob]]\n",
    "    \n",
    "    e1_var = create_LSTM_Variables(num_nodes,'e1',is_input = True)\n",
    "    e2_var = create_LSTM_Variables(num_nodes,'e2')\n",
    "    e3_var = create_LSTM_Variables(num_nodes,'e3')\n",
    "    \n",
    "    d1_var = create_LSTM_Variables(num_nodes,'d1',is_input = True)\n",
    "    d2_var = create_LSTM_Variables(num_nodes,'d2',is_second = True)\n",
    "    d3_var = create_LSTM_Variables(num_nodes,'d3')\n",
    "    \n",
    "    #softmax\n",
    "    W_softmax = tf.Variable(tf.truncated_normal([num_nodes,alphabet_size],-0.08,0.08))\n",
    "    b_softmax = tf.Variable(tf.zeros([1,alphabet_size]))\n",
    "    \n",
    "    #model\n",
    "    #hl is the previous hiddent layer from current time step but previous  layer\n",
    "    #ht is the previous hidden layer from the current layer but previous timestep\n",
    "    #state is the previous state from the same layer but previous timestep\n",
    "    def LSTM(hl,ht,state,varrs):\n",
    "        #get variables out\n",
    "        x,b=varrs[0],varrs[1]\n",
    "        fx,ix,cx,ox = x[0],x[1],x[2],x[3]\n",
    "        fb,ib,cb,ob = b[0],b[1],b[1],b[3]\n",
    "        \n",
    "        #computations\n",
    "        input_chan = tf.concat([hl,ht],1)\n",
    "        forget_gate = tf.sigmoid(tf.matmul(input_chan,fx)+fb)\n",
    "        insert_gate = tf.sigmoid(tf.matmul(input_chan,ix)+ib)\n",
    "        output_gate = tf.sigmoid(tf.matmul(input_chan,ox)+ob)\n",
    "        candidate = tf.tanh(tf.matmul(input_chan,cx)+cb)\n",
    "        state = forget_gate * state + insert_gate * candidate\n",
    "        h = output_gate * tf.tanh(state)\n",
    "        return h, state\n",
    "    \n",
    "    def attention(h,d,encoder_size,decoder_size,attention_size=27,reuse=True):\n",
    "        \"\"\"\n",
    "        h : encoder states each element is [N,encoder_size]. array is length encoder_length\n",
    "        d : decoding query [N,decoder_size]\n",
    "        \n",
    "        Returns\n",
    "        new query d_prime [N,encoder_size]\n",
    "        an attention vector a [encoder_length]\n",
    "        \"\"\"\n",
    "        with tf.variable_scope('attention',reuse=reuse):\n",
    "            W_1=tf.get_variable('W_1',shape=[encoder_size,attention_size],initializer=tf.random_normal_initializer())\n",
    "            W_2=tf.get_variable('W_2',shape=[decoder_size,attention_size],initializer=tf.random_normal_initializer())\n",
    "            v = tf.get_variable('v',shape=[attention_size,1])\n",
    "        \n",
    "        u = []\n",
    "        for h_i in h:\n",
    "            u_i = tf.matmul(tf.tanh(tf.matmul(h_i,W_1)+tf.matmul(d,W_2)),v)\n",
    "            u.append(u_i)\n",
    "        \n",
    "        u=tf.concat(u,axis=1) #[N,encoder_length]\n",
    "        a = tf.nn.softmax(u)\n",
    "        d_prime = tf.reduce_sum(tf.expand_dims(a,axis=1) * tf.reshape(tf.concat(h,1),\n",
    "                                            (-1,encoder_size,len(h))),axis=2)\n",
    "        \n",
    "        return d_prime,a[0,:]\n",
    "        \n",
    "    \n",
    "    def model(input_sequence,train = True):\n",
    "        #Encode sequence\n",
    "        memory = list()\n",
    "        for i in range(max_in+1):\n",
    "            if i == 0:\n",
    "                if train:\n",
    "                    state1,h1 = state_0,hidden_0\n",
    "                    state2,h2 = state_0,hidden_0\n",
    "                    state3,h3 = state_0,hidden_0\n",
    "                else:\n",
    "                    state1,h1 = state_0v,hidden_0v\n",
    "                    state2,h2 = state_0v,hidden_0v\n",
    "                    state3,h3 = state_0v,hidden_0v\n",
    "\n",
    "            h1,state1 = LSTM(h1,input_sequence[i],state1,e1_var) #layer 1\n",
    "            h2,state2 = LSTM(h2,h1,state2,e2_var) #layer 2\n",
    "            h3,state3 = LSTM(h3,h2,state3,e3_var) #layer 3\n",
    "            memory.append(h3) #add output as to the memory for attention\n",
    "\n",
    "#         memory2=tf.concat(memory,1)\n",
    "#         #print(memory2.get_shape())\n",
    "#         #print(tf.reshape(memory2,(batch_size,num_nodes,-1)).shape)\n",
    "        \n",
    "        #Decode sequence\n",
    "        attention_values = list()\n",
    "        logits_list = list()\n",
    "        for i in range(max_out+1):\n",
    "            if i == 0:\n",
    "                h1,state1 = LSTM(h1,input_sequence[-1],state1,d1_var) #layer 1\n",
    "                if train:\n",
    "                    d_prime,a = attention(h=memory,d=h1,encoder_size=num_nodes,decoder_size=num_nodes,reuse=False)\n",
    "                else:\n",
    "                    d_prime,a = attention(h=memory,d=h1,encoder_size=num_nodes,decoder_size=num_nodes,reuse=True)\n",
    "\n",
    "            else:\n",
    "                h1,state1 = LSTM(h1,tf.nn.softmax(logit),state1,d1_var) #layer 1\n",
    "                d_prime,a = attention(h=memory,d=h1,encoder_size=num_nodes,decoder_size=num_nodes)\n",
    "            h2,state2 = LSTM(h2,tf.concat([d_prime,h1],axis=1),state2,d2_var) #layer 2\n",
    "            h3,state3 = LSTM(h3,h2,state3,d3_var) #layer 3\n",
    "\n",
    "            logit =tf.matmul(h3,W_softmax)+b_softmax\n",
    "            logits_list.append(logit)\n",
    "            attention_values.append(a)\n",
    "\n",
    "        logits = tf.concat(logits_list,0)\n",
    "        print(attention_values[0].shape)\n",
    "        attention_values=tf.transpose(tf.stack(attention_values,0))\n",
    "        print(attention_values.shape)\n",
    "        return logits,attention_values\n",
    "    \n",
    "    #train\n",
    "    logits_train,attention_values = model(input_sequence)\n",
    "    loss = tf.reduce_mean(tf.nn.softmax_cross_entropy_with_logits(logits=logits_train,labels=tf.concat(target_sequence,0)))\n",
    "    opt = tf.train.AdamOptimizer(learning_rate=1e-3).minimize(loss)\n",
    "    \n",
    "    #inference train\n",
    "    pred = tf.nn.softmax(logits_train)\n",
    "    \n",
    "    saver = tf.train.Saver()\n",
    "        \n",
    "    init = tf.global_variables_initializer()"
   ]
  },
  {
   "cell_type": "code",
   "execution_count": 136,
   "metadata": {
    "collapsed": true
   },
   "outputs": [],
   "source": [
    "sess = tf.Session(graph = g)\n",
    "sess.run(init)\n",
    "b = Batch(words,words_pl,batch_size)\n",
    "losses = []"
   ]
  },
  {
   "cell_type": "code",
   "execution_count": 137,
   "metadata": {
    "collapsed": true
   },
   "outputs": [],
   "source": [
    "# saver.restore(sess,os.getcwd()+'/model3_attention.ckpt')"
   ]
  },
  {
   "cell_type": "code",
   "execution_count": 152,
   "metadata": {},
   "outputs": [
    {
     "name": "stderr",
     "output_type": "stream",
     "text": [
      "  0%|          | 3/5001 [00:00<08:34,  9.72it/s]"
     ]
    },
    {
     "name": "stdout",
     "output_type": "stream",
     "text": [
      "loss:  0.302704\n",
      "Input:           ~~~~gullit\n",
      "Output:          ullitgay~~~~~\n",
      "Correct Output:  ullitgay~~~~~\n",
      " \n"
     ]
    },
    {
     "name": "stderr",
     "output_type": "stream",
     "text": [
      "  2%|▏         | 103/5001 [00:08<06:43, 12.14it/s]"
     ]
    },
    {
     "name": "stdout",
     "output_type": "stream",
     "text": [
      "loss:  0.182563\n",
      "Input:           ~~~~eactor\n",
      "Output:          eactorway~~~~\n",
      "Correct Output:  eactorway~~~~\n",
      " \n"
     ]
    },
    {
     "name": "stderr",
     "output_type": "stream",
     "text": [
      "  4%|▍         | 203/5001 [00:16<06:30, 12.29it/s]"
     ]
    },
    {
     "name": "stdout",
     "output_type": "stream",
     "text": [
      "loss:  0.185674\n",
      "Input:           ~~~~~laide\n",
      "Output:          aidelay~~~~~~\n",
      "Correct Output:  aidelay~~~~~~\n",
      " \n"
     ]
    },
    {
     "name": "stderr",
     "output_type": "stream",
     "text": [
      "  6%|▌         | 303/5001 [00:24<06:20, 12.34it/s]"
     ]
    },
    {
     "name": "stdout",
     "output_type": "stream",
     "text": [
      "loss:  0.19154\n",
      "Input:           ~bananaman\n",
      "Output:          ananmmanbay~~\n",
      "Correct Output:  ananamanbay~~\n",
      " \n"
     ]
    },
    {
     "name": "stderr",
     "output_type": "stream",
     "text": [
      "  8%|▊         | 403/5001 [00:32<06:09, 12.43it/s]"
     ]
    },
    {
     "name": "stdout",
     "output_type": "stream",
     "text": [
      "loss:  0.380778\n",
      "Input:           ~~~~~dimps\n",
      "Output:          impsday~~~~~~\n",
      "Correct Output:  impsday~~~~~~\n",
      " \n"
     ]
    },
    {
     "name": "stderr",
     "output_type": "stream",
     "text": [
      " 10%|█         | 503/5001 [00:40<06:00, 12.49it/s]"
     ]
    },
    {
     "name": "stdout",
     "output_type": "stream",
     "text": [
      "loss:  0.259007\n",
      "Input:           ~sadlamulk\n",
      "Output:          adlamumysay~~\n",
      "Correct Output:  adlamulksay~~\n",
      " \n"
     ]
    },
    {
     "name": "stderr",
     "output_type": "stream",
     "text": [
      " 12%|█▏        | 603/5001 [00:48<05:51, 12.51it/s]"
     ]
    },
    {
     "name": "stdout",
     "output_type": "stream",
     "text": [
      "loss:  0.174261\n",
      "Input:           ~~~~~~neal\n",
      "Output:          ealnay~~~~~~~\n",
      "Correct Output:  ealnay~~~~~~~\n",
      " \n"
     ]
    },
    {
     "name": "stderr",
     "output_type": "stream",
     "text": [
      " 14%|█▍        | 702/5001 [00:56<05:45, 12.43it/s]"
     ]
    },
    {
     "name": "stdout",
     "output_type": "stream",
     "text": [
      "loss:  0.192062\n",
      "Input:           ~~~relearn\n",
      "Output:          elearnray~~~~\n",
      "Correct Output:  elearnray~~~~\n",
      " \n"
     ]
    },
    {
     "name": "stderr",
     "output_type": "stream",
     "text": [
      " 16%|█▌        | 802/5001 [01:04<05:39, 12.35it/s]"
     ]
    },
    {
     "name": "stdout",
     "output_type": "stream",
     "text": [
      "loss:  0.163568\n",
      "Input:           ~~~lecanii\n",
      "Output:          ecaniilay~~~~\n",
      "Correct Output:  ecaniilay~~~~\n",
      " \n"
     ]
    },
    {
     "name": "stderr",
     "output_type": "stream",
     "text": [
      " 18%|█▊        | 902/5001 [01:12<05:30, 12.39it/s]"
     ]
    },
    {
     "name": "stdout",
     "output_type": "stream",
     "text": [
      "loss:  0.214975\n",
      "Input:           ~~~~~bobak\n",
      "Output:          obakbay~~~~~~\n",
      "Correct Output:  obakbay~~~~~~\n",
      " \n"
     ]
    },
    {
     "name": "stderr",
     "output_type": "stream",
     "text": [
      " 20%|██        | 1002/5001 [01:21<05:23, 12.36it/s]"
     ]
    },
    {
     "name": "stdout",
     "output_type": "stream",
     "text": [
      "loss:  0.276154\n",
      "Input:           ~~~~schack\n",
      "Output:          ackschay~~~~~\n",
      "Correct Output:  ackschay~~~~~\n",
      " \n"
     ]
    },
    {
     "name": "stderr",
     "output_type": "stream",
     "text": [
      " 22%|██▏       | 1102/5001 [01:28<05:14, 12.39it/s]"
     ]
    },
    {
     "name": "stdout",
     "output_type": "stream",
     "text": [
      "loss:  0.146928\n",
      "Input:           ~~~~~~rels\n",
      "Output:          elsray~~~~~~~\n",
      "Correct Output:  elsray~~~~~~~\n",
      " \n"
     ]
    },
    {
     "name": "stderr",
     "output_type": "stream",
     "text": [
      " 24%|██▍       | 1202/5001 [01:36<05:06, 12.40it/s]"
     ]
    },
    {
     "name": "stdout",
     "output_type": "stream",
     "text": [
      "loss:  0.217687\n",
      "Input:           ~proffered\n",
      "Output:          offeredpray~~\n",
      "Correct Output:  offeredpray~~\n",
      " \n"
     ]
    },
    {
     "name": "stderr",
     "output_type": "stream",
     "text": [
      " 26%|██▌       | 1302/5001 [01:45<04:58, 12.38it/s]"
     ]
    },
    {
     "name": "stdout",
     "output_type": "stream",
     "text": [
      "loss:  0.169613\n",
      "Input:           ~pombalina\n",
      "Output:          ombalinapay~~\n",
      "Correct Output:  ombalinapay~~\n",
      " \n"
     ]
    },
    {
     "name": "stderr",
     "output_type": "stream",
     "text": [
      " 28%|██▊       | 1402/5001 [01:53<04:50, 12.38it/s]"
     ]
    },
    {
     "name": "stdout",
     "output_type": "stream",
     "text": [
      "loss:  0.228216\n",
      "Input:           ~~furihime\n",
      "Output:          uribimefay~~~\n",
      "Correct Output:  urihimefay~~~\n",
      " \n"
     ]
    },
    {
     "name": "stderr",
     "output_type": "stream",
     "text": [
      " 30%|███       | 1502/5001 [02:02<04:45, 12.27it/s]"
     ]
    },
    {
     "name": "stdout",
     "output_type": "stream",
     "text": [
      "loss:  0.197745\n",
      "Input:           ~~bulafiji\n",
      "Output:          ulabomibay~~~\n",
      "Correct Output:  ulafijibay~~~\n",
      " \n"
     ]
    },
    {
     "name": "stderr",
     "output_type": "stream",
     "text": [
      " 32%|███▏      | 1602/5001 [02:10<04:36, 12.30it/s]"
     ]
    },
    {
     "name": "stdout",
     "output_type": "stream",
     "text": [
      "loss:  0.151861\n",
      "Input:           ~manouvres\n",
      "Output:          anouvresmay~~\n",
      "Correct Output:  anouvresmay~~\n",
      " \n"
     ]
    },
    {
     "name": "stderr",
     "output_type": "stream",
     "text": [
      " 34%|███▍      | 1702/5001 [02:18<04:27, 12.32it/s]"
     ]
    },
    {
     "name": "stdout",
     "output_type": "stream",
     "text": [
      "loss:  0.216108\n",
      "Input:           ~~suburban\n",
      "Output:          uburhansay~~~\n",
      "Correct Output:  uburbansay~~~\n",
      " \n"
     ]
    },
    {
     "name": "stderr",
     "output_type": "stream",
     "text": [
      " 36%|███▌      | 1802/5001 [02:26<04:19, 12.34it/s]"
     ]
    },
    {
     "name": "stdout",
     "output_type": "stream",
     "text": [
      "loss:  0.168616\n",
      "Input:           ~biollante\n",
      "Output:          iollantebay~~\n",
      "Correct Output:  iollantebay~~\n",
      " \n"
     ]
    },
    {
     "name": "stderr",
     "output_type": "stream",
     "text": [
      " 38%|███▊      | 1902/5001 [02:34<04:11, 12.34it/s]"
     ]
    },
    {
     "name": "stdout",
     "output_type": "stream",
     "text": [
      "loss:  0.177692\n",
      "Input:           ~aryabhata\n",
      "Output:          aryahhataway~\n",
      "Correct Output:  aryabhataway~\n",
      " \n"
     ]
    },
    {
     "name": "stderr",
     "output_type": "stream",
     "text": [
      " 40%|████      | 2002/5001 [02:42<04:02, 12.34it/s]"
     ]
    },
    {
     "name": "stdout",
     "output_type": "stream",
     "text": [
      "loss:  0.153501\n",
      "Input:           ~maroilles\n",
      "Output:          aroillesmay~~\n",
      "Correct Output:  aroillesmay~~\n",
      " \n"
     ]
    },
    {
     "name": "stderr",
     "output_type": "stream",
     "text": [
      " 42%|████▏     | 2102/5001 [02:50<03:54, 12.36it/s]"
     ]
    },
    {
     "name": "stdout",
     "output_type": "stream",
     "text": [
      "loss:  0.122396\n",
      "Input:           ~marrubium\n",
      "Output:          arrubiummay~~\n",
      "Correct Output:  arrubiummay~~\n",
      " \n"
     ]
    },
    {
     "name": "stderr",
     "output_type": "stream",
     "text": [
      " 44%|████▍     | 2202/5001 [02:58<03:47, 12.31it/s]"
     ]
    },
    {
     "name": "stdout",
     "output_type": "stream",
     "text": [
      "loss:  0.220635\n",
      "Input:           ~~~newnham\n",
      "Output:          ewnhamday~~~~\n",
      "Correct Output:  ewnhamnay~~~~\n",
      " \n"
     ]
    },
    {
     "name": "stderr",
     "output_type": "stream",
     "text": [
      " 46%|████▌     | 2302/5001 [03:07<03:39, 12.30it/s]"
     ]
    },
    {
     "name": "stdout",
     "output_type": "stream",
     "text": [
      "loss:  0.163878\n",
      "Input:           ~~~~aemvli\n",
      "Output:          aemmliway~~~~\n",
      "Correct Output:  aemvliway~~~~\n",
      " \n"
     ]
    },
    {
     "name": "stderr",
     "output_type": "stream",
     "text": [
      " 48%|████▊     | 2402/5001 [03:14<03:30, 12.32it/s]"
     ]
    },
    {
     "name": "stdout",
     "output_type": "stream",
     "text": [
      "loss:  0.207399\n",
      "Input:           ~~~~~~~ped\n",
      "Output:          edpay~~~~~~~~\n",
      "Correct Output:  edpay~~~~~~~~\n",
      " \n"
     ]
    },
    {
     "name": "stderr",
     "output_type": "stream",
     "text": [
      " 50%|█████     | 2502/5001 [03:22<03:22, 12.33it/s]"
     ]
    },
    {
     "name": "stdout",
     "output_type": "stream",
     "text": [
      "loss:  0.177993\n",
      "Input:           ~~~lepanto\n",
      "Output:          epantolay~~~~\n",
      "Correct Output:  epantolay~~~~\n",
      " \n"
     ]
    },
    {
     "name": "stderr",
     "output_type": "stream",
     "text": [
      " 52%|█████▏    | 2602/5001 [03:30<03:14, 12.35it/s]"
     ]
    },
    {
     "name": "stdout",
     "output_type": "stream",
     "text": [
      "loss:  0.11365\n",
      "Input:           ~~~~~astan\n",
      "Output:          astanway~~~~~\n",
      "Correct Output:  astanway~~~~~\n",
      " \n"
     ]
    },
    {
     "name": "stderr",
     "output_type": "stream",
     "text": [
      " 54%|█████▍    | 2702/5001 [03:38<03:05, 12.37it/s]"
     ]
    },
    {
     "name": "stdout",
     "output_type": "stream",
     "text": [
      "loss:  0.155526\n",
      "Input:           ~~thomists\n",
      "Output:          omiststhay~~~\n",
      "Correct Output:  omiststhay~~~\n",
      " \n"
     ]
    },
    {
     "name": "stderr",
     "output_type": "stream",
     "text": [
      " 56%|█████▌    | 2802/5001 [03:46<02:57, 12.39it/s]"
     ]
    },
    {
     "name": "stdout",
     "output_type": "stream",
     "text": [
      "loss:  0.163786\n",
      "Input:           ~~~crudely\n",
      "Output:          udelycray~~~~\n",
      "Correct Output:  udelycray~~~~\n",
      " \n"
     ]
    },
    {
     "name": "stderr",
     "output_type": "stream",
     "text": [
      " 58%|█████▊    | 2902/5001 [03:54<02:49, 12.40it/s]"
     ]
    },
    {
     "name": "stdout",
     "output_type": "stream",
     "text": [
      "loss:  0.169864\n",
      "Input:           ~~gunperry\n",
      "Output:          unperrygay~~~\n",
      "Correct Output:  unperrygay~~~\n",
      " \n"
     ]
    },
    {
     "name": "stderr",
     "output_type": "stream",
     "text": [
      " 60%|██████    | 3002/5001 [04:03<02:42, 12.34it/s]"
     ]
    },
    {
     "name": "stdout",
     "output_type": "stream",
     "text": [
      "loss:  0.225695\n",
      "Input:           procumbent\n",
      "Output:          ocumbentpray~\n",
      "Correct Output:  ocumbentpray~\n",
      " \n"
     ]
    },
    {
     "name": "stderr",
     "output_type": "stream",
     "text": [
      " 62%|██████▏   | 3102/5001 [04:11<02:33, 12.35it/s]"
     ]
    },
    {
     "name": "stdout",
     "output_type": "stream",
     "text": [
      "loss:  0.141438\n",
      "Input:           ~~~~kupier\n",
      "Output:          upierkay~~~~~\n",
      "Correct Output:  upierkay~~~~~\n",
      " \n"
     ]
    },
    {
     "name": "stderr",
     "output_type": "stream",
     "text": [
      " 64%|██████▍   | 3202/5001 [04:19<02:25, 12.35it/s]"
     ]
    },
    {
     "name": "stdout",
     "output_type": "stream",
     "text": [
      "loss:  0.112426\n",
      "Input:           cybernetic\n",
      "Output:          ernetichyyay~\n",
      "Correct Output:  erneticcybay~\n",
      " \n"
     ]
    },
    {
     "name": "stderr",
     "output_type": "stream",
     "text": [
      " 66%|██████▌   | 3302/5001 [04:26<02:17, 12.37it/s]"
     ]
    },
    {
     "name": "stdout",
     "output_type": "stream",
     "text": [
      "loss:  0.214723\n",
      "Input:           ~~~~~fugac\n",
      "Output:          ugacfay~~~~~~\n",
      "Correct Output:  ugacfay~~~~~~\n",
      " \n"
     ]
    },
    {
     "name": "stderr",
     "output_type": "stream",
     "text": [
      " 68%|██████▊   | 3402/5001 [04:34<02:09, 12.37it/s]"
     ]
    },
    {
     "name": "stdout",
     "output_type": "stream",
     "text": [
      "loss:  0.13214\n",
      "Input:           ~~weaponry\n",
      "Output:          eaponryway~~~\n",
      "Correct Output:  eaponryway~~~\n",
      " \n"
     ]
    },
    {
     "name": "stderr",
     "output_type": "stream",
     "text": [
      " 70%|███████   | 3502/5001 [04:42<02:01, 12.39it/s]"
     ]
    },
    {
     "name": "stdout",
     "output_type": "stream",
     "text": [
      "loss:  0.155652\n",
      "Input:           ~compilers\n",
      "Output:          ompilerscay~~\n",
      "Correct Output:  ompilerscay~~\n",
      " \n"
     ]
    },
    {
     "name": "stderr",
     "output_type": "stream",
     "text": [
      " 72%|███████▏  | 3602/5001 [04:50<01:52, 12.40it/s]"
     ]
    },
    {
     "name": "stdout",
     "output_type": "stream",
     "text": [
      "loss:  0.21696\n",
      "Input:           ~~~~~gaafu\n",
      "Output:          aafugay~~~~~~\n",
      "Correct Output:  aafugay~~~~~~\n",
      " \n"
     ]
    },
    {
     "name": "stderr",
     "output_type": "stream",
     "text": [
      " 74%|███████▍  | 3702/5001 [04:58<01:44, 12.38it/s]"
     ]
    },
    {
     "name": "stdout",
     "output_type": "stream",
     "text": [
      "loss:  0.175608\n",
      "Input:           ~arborwiki\n",
      "Output:          arborligiway~\n",
      "Correct Output:  arborwikiway~\n",
      " \n"
     ]
    },
    {
     "name": "stderr",
     "output_type": "stream",
     "text": [
      " 76%|███████▌  | 3803/5001 [05:07<01:36, 12.36it/s]"
     ]
    },
    {
     "name": "stdout",
     "output_type": "stream",
     "text": [
      "loss:  0.133983\n",
      "Input:           ~~pontiana\n",
      "Output:          ontianapay~~~\n",
      "Correct Output:  ontianapay~~~\n",
      " \n"
     ]
    },
    {
     "name": "stderr",
     "output_type": "stream",
     "text": [
      " 78%|███████▊  | 3903/5001 [05:15<01:28, 12.37it/s]"
     ]
    },
    {
     "name": "stdout",
     "output_type": "stream",
     "text": [
      "loss:  0.136566\n",
      "Input:           ~~~~~~norr\n",
      "Output:          orrnay~~~~~~~\n",
      "Correct Output:  orrnay~~~~~~~\n",
      " \n"
     ]
    },
    {
     "name": "stderr",
     "output_type": "stream",
     "text": [
      " 80%|████████  | 4003/5001 [05:23<01:20, 12.38it/s]"
     ]
    },
    {
     "name": "stdout",
     "output_type": "stream",
     "text": [
      "loss:  0.156118\n",
      "Input:           ~~teachers\n",
      "Output:          eacherstay~~~\n",
      "Correct Output:  eacherstay~~~\n",
      " \n"
     ]
    },
    {
     "name": "stderr",
     "output_type": "stream",
     "text": [
      " 82%|████████▏ | 4103/5001 [05:31<01:12, 12.39it/s]"
     ]
    },
    {
     "name": "stdout",
     "output_type": "stream",
     "text": [
      "loss:  0.1287\n",
      "Input:           ~~~~~~gifu\n",
      "Output:          ifugay~~~~~~~\n",
      "Correct Output:  ifugay~~~~~~~\n",
      " \n"
     ]
    },
    {
     "name": "stderr",
     "output_type": "stream",
     "text": [
      " 84%|████████▍ | 4203/5001 [05:38<01:04, 12.40it/s]"
     ]
    },
    {
     "name": "stdout",
     "output_type": "stream",
     "text": [
      "loss:  0.14658\n",
      "Input:           ~~~pachman\n",
      "Output:          achmanpay~~~~\n",
      "Correct Output:  achmanpay~~~~\n",
      " \n"
     ]
    },
    {
     "name": "stderr",
     "output_type": "stream",
     "text": [
      " 86%|████████▌ | 4303/5001 [05:46<00:56, 12.41it/s]"
     ]
    },
    {
     "name": "stdout",
     "output_type": "stream",
     "text": [
      "loss:  0.148113\n",
      "Input:           ~~~~~~baky\n",
      "Output:          akybay~~~~~~~\n",
      "Correct Output:  akybay~~~~~~~\n",
      " \n"
     ]
    },
    {
     "name": "stderr",
     "output_type": "stream",
     "text": [
      " 88%|████████▊ | 4403/5001 [05:54<00:48, 12.42it/s]"
     ]
    },
    {
     "name": "stdout",
     "output_type": "stream",
     "text": [
      "loss:  0.102193\n",
      "Input:           ~~~~~~lurd\n",
      "Output:          urdlay~~~~~~~\n",
      "Correct Output:  urdlay~~~~~~~\n",
      " \n"
     ]
    },
    {
     "name": "stderr",
     "output_type": "stream",
     "text": [
      " 90%|█████████ | 4503/5001 [06:03<00:40, 12.39it/s]"
     ]
    },
    {
     "name": "stdout",
     "output_type": "stream",
     "text": [
      "loss:  0.258336\n",
      "Input:           ~~~~slumps\n",
      "Output:          umpsslay~~~~~\n",
      "Correct Output:  umpsslay~~~~~\n",
      " \n"
     ]
    },
    {
     "name": "stderr",
     "output_type": "stream",
     "text": [
      " 92%|█████████▏| 4603/5001 [06:11<00:32, 12.40it/s]"
     ]
    },
    {
     "name": "stdout",
     "output_type": "stream",
     "text": [
      "loss:  0.2272\n",
      "Input:           ~~~~lastra\n",
      "Output:          astralay~~~~~\n",
      "Correct Output:  astralay~~~~~\n",
      " \n"
     ]
    },
    {
     "name": "stderr",
     "output_type": "stream",
     "text": [
      " 94%|█████████▍| 4703/5001 [06:19<00:24, 12.40it/s]"
     ]
    },
    {
     "name": "stdout",
     "output_type": "stream",
     "text": [
      "loss:  0.292158\n",
      "Input:           ~~~armesto\n",
      "Output:          armestoway~~~\n",
      "Correct Output:  armestoway~~~\n",
      " \n"
     ]
    },
    {
     "name": "stderr",
     "output_type": "stream",
     "text": [
      " 96%|█████████▌| 4801/5001 [06:26<00:16, 12.41it/s]"
     ]
    },
    {
     "name": "stdout",
     "output_type": "stream",
     "text": [
      "loss:  0.102245\n",
      "Input:           ~~~~~~~vwo\n",
      "Output:          ovmay~~~~~~~~\n",
      "Correct Output:  ovway~~~~~~~~\n",
      " \n"
     ]
    },
    {
     "name": "stderr",
     "output_type": "stream",
     "text": [
      " 98%|█████████▊| 4903/5001 [06:35<00:07, 12.41it/s]"
     ]
    },
    {
     "name": "stdout",
     "output_type": "stream",
     "text": [
      "loss:  0.121481\n",
      "Input:           ~~bayqarah\n",
      "Output:          aykarahbay~~~\n",
      "Correct Output:  ayqarahbay~~~\n",
      " \n"
     ]
    },
    {
     "name": "stderr",
     "output_type": "stream",
     "text": [
      "100%|██████████| 5001/5001 [06:42<00:00, 12.41it/s]"
     ]
    },
    {
     "name": "stdout",
     "output_type": "stream",
     "text": [
      "loss:  0.168917\n",
      "Input:           unmanifest\n",
      "Output:          unmanifetsway\n",
      "Correct Output:  unmanifestway\n",
      " \n"
     ]
    },
    {
     "name": "stderr",
     "output_type": "stream",
     "text": [
      "\n"
     ]
    }
   ],
   "source": [
    "num_steps = 5001\n",
    "# num_steps = 11\n",
    "for s in tqdm(range(num_steps)):\n",
    "    fd = {}\n",
    "    x,y = b.nextBatch(reverse=False)\n",
    "    for i in range(len(x[0,:,0])):\n",
    "        fd[input_sequence[i]] = x[:,i,:]\n",
    "    for i in range(len(y[0,:,0])):\n",
    "        fd[target_sequence[i]] = y[:,i,:]\n",
    "    \n",
    "    l,_ = sess.run([loss,opt],feed_dict = fd)\n",
    "    losses.append(l)\n",
    "    if s % 100 == 0:\n",
    "        translated = sess.run([pred],feed_dict=fd)[0]\n",
    "        #onlt check the first word\n",
    "        fw_o = np.ndarray((max_out,alphabet_size))\n",
    "        for i in range(max_out):\n",
    "            fw_o[i]=translated[i*batch_size]\n",
    "    \n",
    "        print 'loss: ',l\n",
    "        print 'Input:          ',unvectorizeWord(x[0])#[::-1]\n",
    "        print 'Output:         ',unvectorizeWord(fw_o)\n",
    "        print 'Correct Output: ',unvectorizeWord(y[0])\n",
    "        print ' '\n",
    "#save_path = saver.save(sess,os.getcwd()+'/model3_attention.ckpt')"
   ]
  },
  {
   "cell_type": "code",
   "execution_count": 155,
   "metadata": {},
   "outputs": [
    {
     "data": {
      "text/plain": [
       "<matplotlib.text.Text at 0x145be5a10>"
      ]
     },
     "execution_count": 155,
     "metadata": {},
     "output_type": "execute_result"
    },
    {
     "data": {
      "image/png": "[encoded data removed]",
      "text/plain": [
       "<matplotlib.figure.Figure at 0x145b4ecd0>"
      ]
     },
     "metadata": {},
     "output_type": "display_data"
    }
   ],
   "source": [
    "attention_matrix,translated = sess.run([attention_values,pred],feed_dict=fd)\n",
    "fw_o = np.ndarray((max_out,alphabet_size))\n",
    "for i in range(max_out):\n",
    "    fw_o[i]=translated[i*batch_size]\n",
    "translated_word = unvectorizeWord(fw_o)\n",
    "input_word = unvectorizeWord(x[0])\n",
    "plt.imshow(attention_matrix)\n",
    "plt.colorbar()\n",
    "plt.xticks(np.arange(len(translated_word)),translated_word)\n",
    "plt.yticks(np.arange(len(input_word)),input_word)\n",
    "plt.ylabel('Encoding Step')\n",
    "plt.xlabel('Decoding Step')"
   ]
  },
  {
   "cell_type": "code",
   "execution_count": 147,
   "metadata": {},
   "outputs": [
    {
     "data": {
      "text/plain": [
       "'~~~~~~pary'"
      ]
     },
     "execution_count": 147,
     "metadata": {},
     "output_type": "execute_result"
    }
   ],
   "source": [
    "input_word"
   ]
  },
  {
   "cell_type": "code",
   "execution_count": 156,
   "metadata": {},
   "outputs": [
    {
     "data": {
      "text/plain": [
       "[<matplotlib.lines.Line2D at 0x146a8f550>]"
      ]
     },
     "execution_count": 156,
     "metadata": {},
     "output_type": "execute_result"
    },
    {
     "data": {
      "image/png": "[encoded data removed]",
      "text/plain": [
       "<matplotlib.figure.Figure at 0x1459a9ad0>"
      ]
     },
     "metadata": {},
     "output_type": "display_data"
    }
   ],
   "source": [
    "plt.plot(losses)"
   ]
  },
  {
   "cell_type": "code",
   "execution_count": 143,
   "metadata": {},
   "outputs": [
    {
     "name": "stdout",
     "output_type": "stream",
     "text": [
      "(11,)\n",
      "(11, 14)\n"
     ]
    }
   ],
   "source": [
    "with g.as_default():\n",
    "    val_sequence = list()\n",
    "    for i in range(max_in+1):\n",
    "        val_sequence.append(tf.placeholder(tf.float32,shape=(1,alphabet_size)))\n",
    "    logits_val,_ = model(val_sequence,train=False)\n",
    "    pred_val = tf.nn.softmax(logits_val)"
   ]
  },
  {
   "cell_type": "code",
   "execution_count": 157,
   "metadata": {},
   "outputs": [
    {
     "name": "stdout",
     "output_type": "stream",
     "text": [
      "Input:           abaya\n",
      "Output:          ayabaway~~~~~\n",
      " \n",
      "Input:           bardolatry\n",
      "Output:          aludrilkcray~\n",
      " \n",
      "Input:           blatherski\n",
      "Output:          issretrallway\n",
      " \n",
      "Input:           couthy\n",
      "Output:          uochyyay~~~~~\n",
      " \n",
      "Input:           deterge\n",
      "Output:          egretedway~~~\n",
      " \n",
      "Input:           eyewater\n",
      "Output:          etaweyeray~~~\n",
      " \n",
      "Input:           saudade\n",
      "Output:          edadeasway~~~\n",
      " \n",
      "Input:           tokoloshe\n",
      "Output:          ehsologotway~\n",
      " \n",
      "Input:           wittol\n",
      "Output:          ottiwlay~~~~~\n",
      " \n",
      "Input:           vomitous\n",
      "Output:          uotimovsay~~~\n",
      " \n",
      "Input:           waitron\n",
      "Output:          ortiawnay~~~~\n",
      " \n"
     ]
    }
   ],
   "source": [
    "#validation\n",
    "for s in range(len(uncommon)):\n",
    "    inputs = vectorizeWord(pad_in(uncommon[s][::-1]))\n",
    "    \n",
    "    fd = {}\n",
    "    for i in range(len(inputs)):\n",
    "        fd[val_sequence[i]] = np.expand_dims(inputs[i],0)\n",
    "    \n",
    "    translated = sess.run([pred_val],feed_dict=fd)[0]\n",
    "    print 'Input:          ',uncommon[s]\n",
    "    print 'Output:         ',unvectorizeWord(translated)\n",
    "    print ' '"
   ]
  },
  {
   "cell_type": "markdown",
   "metadata": {
    "collapsed": true
   },
   "source": [
    "# Get Variables"
   ]
  },
  {
   "cell_type": "code",
   "execution_count": 32,
   "metadata": {
    "collapsed": true
   },
   "outputs": [],
   "source": [
    "model_params = sess.run([e1_var,e2_var,e3_var,d1_var,d2_var,d3_var,W_softmax,b_softmax])"
   ]
  },
  {
   "cell_type": "code",
   "execution_count": 33,
   "metadata": {
    "collapsed": true
   },
   "outputs": [],
   "source": [
    "pickle.dump(model_params,open('params_attention.p','w'))"
   ]
  },
  {
   "cell_type": "code",
   "execution_count": null,
   "metadata": {
    "collapsed": true
   },
   "outputs": [],
   "source": []
  }
 ],
 "metadata": {
  "kernelspec": {
   "display_name": "Python 2",
   "language": "python",
   "name": "python2"
  },
  "language_info": {
   "codemirror_mode": {
    "name": "ipython",
    "version": 2
   },
   "file_extension": ".py",
   "mimetype": "text/x-python",
   "name": "python",
   "nbconvert_exporter": "python",
   "pygments_lexer": "ipython2",
   "version": "2.7.13"
  }
 },
 "nbformat": 4,
 "nbformat_minor": 2
}
