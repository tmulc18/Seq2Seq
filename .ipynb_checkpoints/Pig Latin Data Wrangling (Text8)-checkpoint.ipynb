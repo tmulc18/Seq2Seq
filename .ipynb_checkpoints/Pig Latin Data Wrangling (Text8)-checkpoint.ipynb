{
 "cells": [
  {
   "cell_type": "markdown",
   "metadata": {},
   "source": [
    "# Goal\n",
    "\n",
    "We will attemp to convert English into Pig Latin.  We will use the Text8 data as a corpus of text.  The modeling will be done using a sequence of characters and the input sequence will be the sequence of characters for one word.  We will use the method described [here](https://papers.nips.cc/paper/5346-sequence-to-sequence-learning-with-neural-networks.pdf) "
   ]
  },
  {
   "cell_type": "markdown",
   "metadata": {},
   "source": [
    "# Import functions"
   ]
  },
  {
   "cell_type": "code",
   "execution_count": 11,
   "metadata": {
    "collapsed": false
   },
   "outputs": [],
   "source": [
    "import pickle\n",
    "import string\n",
    "import zipfile\n",
    "import os\n",
    "from tqdm import tqdm\n",
    "import tensorflow as tf\n",
    "from six.moves.urllib.request import urlretrieve"
   ]
  },
  {
   "cell_type": "markdown",
   "metadata": {},
   "source": [
    "# Download data"
   ]
  },
  {
   "cell_type": "code",
   "execution_count": 9,
   "metadata": {
    "collapsed": false
   },
   "outputs": [
    {
     "name": "stdout",
     "output_type": "stream",
     "text": [
      "Found and verified text8.zip\n"
     ]
    }
   ],
   "source": [
    "url = 'http://mattmahoney.net/dc/'\n",
    "\n",
    "def maybe_download(filename, expected_bytes):\n",
    "  \"\"\"Download a file if not present, and make sure it's the right size.\"\"\"\n",
    "  if not os.path.exists(filename):\n",
    "    filename, _ = urlretrieve(url + filename, filename)\n",
    "  statinfo = os.stat(filename)\n",
    "  if statinfo.st_size == expected_bytes:\n",
    "    print('Found and verified %s' % filename)\n",
    "  else:\n",
    "    print(statinfo.st_size)\n",
    "    raise Exception(\n",
    "      'Failed to verify ' + filename + '. Can you get to it with a browser?')\n",
    "  return filename\n",
    "\n",
    "filename = maybe_download('text8.zip', 31344016)"
   ]
  },
  {
   "cell_type": "markdown",
   "metadata": {},
   "source": [
    "# Import data"
   ]
  },
  {
   "cell_type": "code",
   "execution_count": 30,
   "metadata": {
    "collapsed": false
   },
   "outputs": [],
   "source": [
    "f = zipfile.ZipFile(filename)\n",
    "for name in f.namelist():\n",
    "    text = tf.compat.as_str(f.read(name))\n",
    "f.close()"
   ]
  },
  {
   "cell_type": "code",
   "execution_count": 40,
   "metadata": {
    "collapsed": false
   },
   "outputs": [],
   "source": [
    "words = text.split()"
   ]
  },
  {
   "cell_type": "code",
   "execution_count": 41,
   "metadata": {
    "collapsed": false
   },
   "outputs": [
    {
     "name": "stdout",
     "output_type": "stream",
     "text": [
      "['anarchism', 'originated', 'as', 'a', 'term', 'of', 'abuse', 'first', 'used', 'against', 'early', 'working', 'class', 'radicals', 'including', 'the', 'diggers', 'of', 'the', 'english', 'revolution', 'and', 'the', 'sans', 'culottes', 'of', 'the', 'french', 'revolution', 'whilst', 'the', 'term', 'is', 'still', 'used', 'in', 'a', 'pejorative', 'way', 'to', 'describe', 'any', 'act', 'that', 'used', 'violent', 'means', 'to', 'destroy', 'the', 'organization', 'of', 'society', 'it', 'has', 'also', 'been', 'taken', 'up', 'as', 'a', 'positive', 'label', 'by', 'self', 'defined', 'anarchists', 'the', 'word', 'anarchism', 'is', 'derived', 'from', 'the', 'greek', 'without', 'archons', 'ruler', 'chief', 'king', 'anarchism', 'as', 'a', 'political', 'philosophy', 'is', 'the', 'belief', 'that', 'rulers', 'are', 'unnecessary', 'and', 'should', 'be', 'abolished', 'although', 'there', 'are', 'differing']\n"
     ]
    }
   ],
   "source": [
    "print words[:100]"
   ]
  },
  {
   "cell_type": "code",
   "execution_count": 42,
   "metadata": {
    "collapsed": false
   },
   "outputs": [
    {
     "name": "stdout",
     "output_type": "stream",
     "text": [
      "17005207\n"
     ]
    }
   ],
   "source": [
    "print len(words)"
   ]
  },
  {
   "cell_type": "markdown",
   "metadata": {},
   "source": [
    "# Make words only appear once (VERY IMPORTANT!)"
   ]
  },
  {
   "cell_type": "code",
   "execution_count": 43,
   "metadata": {
    "collapsed": false
   },
   "outputs": [
    {
     "name": "stdout",
     "output_type": "stream",
     "text": [
      "253854\n"
     ]
    }
   ],
   "source": [
    "words = list(set(words))\n",
    "print len(words)"
   ]
  },
  {
   "cell_type": "markdown",
   "metadata": {},
   "source": [
    "# Clean data set\n",
    "\n",
    "Some words in the dataset could be links which aren't actually english words.  Let's just get rid of any word that is over 20 characters long because these [rarely occur](http://www.ravi.io/language-word-lengths).\n",
    "\n",
    "<img src=\"english_word_freq.png\">"
   ]
  },
  {
   "cell_type": "code",
   "execution_count": 45,
   "metadata": {
    "collapsed": false
   },
   "outputs": [
    {
     "data": {
      "text/plain": [
       "100"
      ]
     },
     "execution_count": 45,
     "metadata": {},
     "output_type": "execute_result"
    }
   ],
   "source": [
    "max(map(len, words))"
   ]
  },
  {
   "cell_type": "code",
   "execution_count": 46,
   "metadata": {
    "collapsed": true
   },
   "outputs": [],
   "source": [
    "todelete = []\n",
    "for i,l in enumerate(map(len,words)):\n",
    "    if l > 10:\n",
    "        todelete.append(i)"
   ]
  },
  {
   "cell_type": "code",
   "execution_count": 47,
   "metadata": {
    "collapsed": false
   },
   "outputs": [
    {
     "name": "stdout",
     "output_type": "stream",
     "text": [
      "deleting  39566  words\n"
     ]
    }
   ],
   "source": [
    "print \"deleting \",len(todelete),\" words\""
   ]
  },
  {
   "cell_type": "code",
   "execution_count": 48,
   "metadata": {
    "collapsed": true
   },
   "outputs": [],
   "source": [
    "corrections = range(len(todelete))\n",
    "for i in range(len(todelete)):\n",
    "    todelete[i] -= corrections[i]"
   ]
  },
  {
   "cell_type": "code",
   "execution_count": 49,
   "metadata": {
    "collapsed": false
   },
   "outputs": [
    {
     "name": "stderr",
     "output_type": "stream",
     "text": [
      "\n",
      "  0%|          | 0/39566 [00:00<?, ?it/s]\u001b[A\n",
      "  2%|▏         | 684/39566 [00:00<00:05, 6836.99it/s]\u001b[A\n",
      "  3%|▎         | 1235/39566 [00:00<00:06, 6374.73it/s]\u001b[A\n",
      "  5%|▍         | 1920/39566 [00:00<00:05, 6508.83it/s]\u001b[A\n",
      "  6%|▌         | 2422/39566 [00:00<00:06, 5975.15it/s]\u001b[A\n",
      "  7%|▋         | 2868/39566 [00:00<00:07, 5216.82it/s]\u001b[A\n",
      "  9%|▊         | 3364/39566 [00:00<00:07, 5114.85it/s]\u001b[A\n",
      " 10%|▉         | 3889/39566 [00:00<00:06, 5153.20it/s]\u001b[A\n",
      " 11%|█         | 4362/39566 [00:00<00:07, 5009.64it/s]\u001b[A\n",
      " 12%|█▏        | 4834/39566 [00:00<00:07, 4904.59it/s]\u001b[A\n",
      "\n",
      " 13%|█▎        | 5305/39566 [00:01<00:07, 4805.25it/s]\u001b[AException in thread Thread-4:\n",
      "Traceback (most recent call last):\n",
      "  File \"/Users/tmulc/anaconda2/envs/tensorflow/lib/python2.7/threading.py\", line 801, in __bootstrap_inner\n",
      "    self.run()\n",
      "  File \"/Users/tmulc/anaconda2/envs/tensorflow/lib/python2.7/site-packages/tqdm/_tqdm.py\", line 103, in run\n",
      "    for instance in self.tqdm_cls._instances:\n",
      "  File \"/Users/tmulc/anaconda2/envs/tensorflow/lib/python2.7/_weakrefset.py\", line 60, in __iter__\n",
      "    for itemref in self.data:\n",
      "RuntimeError: Set changed size during iteration\n",
      "\n",
      "\n",
      " 15%|█▍        | 5772/39566 [00:01<00:07, 4650.03it/s]\u001b[A\n",
      " 16%|█▌        | 6327/39566 [00:01<00:06, 4886.98it/s]\u001b[A\n",
      " 18%|█▊        | 6947/39566 [00:01<00:06, 5218.41it/s]\u001b[A\n",
      " 19%|█▉        | 7474/39566 [00:01<00:06, 4781.71it/s]\u001b[A\n",
      " 20%|██        | 7963/39566 [00:01<00:07, 4213.08it/s]\u001b[A\n",
      " 21%|██▏       | 8454/39566 [00:01<00:07, 4400.15it/s]\u001b[A\n",
      " 23%|██▎       | 9036/39566 [00:01<00:06, 4746.77it/s]\u001b[A\n",
      " 25%|██▍       | 9742/39566 [00:01<00:05, 5258.75it/s]\u001b[A\n",
      " 27%|██▋       | 10486/39566 [00:02<00:05, 5765.84it/s]\u001b[A\n",
      " 28%|██▊       | 11142/39566 [00:02<00:04, 5982.61it/s]\u001b[A\n",
      " 30%|██▉       | 11846/39566 [00:02<00:04, 6264.35it/s]\u001b[A\n",
      " 32%|███▏      | 12513/39566 [00:02<00:04, 6379.89it/s]\u001b[A\n",
      " 33%|███▎      | 13238/39566 [00:02<00:03, 6616.96it/s]\u001b[A\n",
      " 35%|███▌      | 14014/39566 [00:02<00:03, 6855.64it/s]\u001b[A\n",
      " 38%|███▊      | 14874/39566 [00:02<00:03, 7231.42it/s]\u001b[A\n",
      " 40%|███▉      | 15797/39566 [00:02<00:03, 7733.55it/s]\u001b[A\n",
      " 42%|████▏     | 16666/39566 [00:02<00:02, 7994.95it/s]\u001b[A\n",
      " 44%|████▍     | 17529/39566 [00:02<00:02, 8161.26it/s]\u001b[A\n",
      " 46%|████▋     | 18358/39566 [00:03<00:02, 8110.08it/s]\u001b[A\n",
      " 48%|████▊     | 19178/39566 [00:03<00:02, 8053.30it/s]\u001b[A\n",
      " 51%|█████     | 20193/39566 [00:03<00:02, 8585.00it/s]\u001b[A\n",
      " 54%|█████▍    | 21330/39566 [00:03<00:01, 9265.07it/s]\u001b[A\n",
      " 57%|█████▋    | 22539/39566 [00:03<00:01, 9963.44it/s]\u001b[A\n",
      " 60%|█████▉    | 23707/39566 [00:03<00:01, 10407.02it/s]\u001b[A\n",
      " 63%|██████▎   | 24995/39566 [00:03<00:01, 11042.46it/s]\u001b[A\n",
      " 67%|██████▋   | 26440/39566 [00:03<00:01, 11882.89it/s]\u001b[A\n",
      " 71%|███████▏  | 28270/39566 [00:03<00:00, 13174.97it/s]\u001b[A\n",
      " 76%|███████▌  | 30026/39566 [00:03<00:00, 14241.07it/s]\u001b[A\n",
      " 82%|████████▏ | 32597/39566 [00:04<00:00, 16441.24it/s]\u001b[A\n",
      " 92%|█████████▏| 36534/39566 [00:04<00:00, 19889.32it/s]\u001b[A\n",
      "100%|██████████| 39566/39566 [00:04<00:00, 9526.58it/s] \u001b[A"
     ]
    }
   ],
   "source": [
    "for di in tqdm(todelete):\n",
    "    del words[di]"
   ]
  },
  {
   "cell_type": "code",
   "execution_count": 50,
   "metadata": {
    "collapsed": false
   },
   "outputs": [
    {
     "data": {
      "text/plain": [
       "10"
      ]
     },
     "execution_count": 50,
     "metadata": {},
     "output_type": "execute_result"
    }
   ],
   "source": [
    "max(map(len,words))"
   ]
  },
  {
   "cell_type": "code",
   "execution_count": 51,
   "metadata": {
    "collapsed": false
   },
   "outputs": [
    {
     "name": "stdout",
     "output_type": "stream",
     "text": [
      "214288\n"
     ]
    }
   ],
   "source": [
    "print len(words)"
   ]
  },
  {
   "cell_type": "code",
   "execution_count": 52,
   "metadata": {
    "collapsed": false
   },
   "outputs": [
    {
     "name": "stdout",
     "output_type": "stream",
     "text": [
      "214288\n"
     ]
    }
   ],
   "source": [
    "print len(set(words))"
   ]
  },
  {
   "cell_type": "markdown",
   "metadata": {},
   "source": [
    "# Convert to pig Latin\n",
    "\n",
    "[rules](https://en.wikipedia.org/wiki/Pig_Latin)\n",
    "\n",
    "<img src=\"piglatin_rules.png\">"
   ]
  },
  {
   "cell_type": "code",
   "execution_count": 53,
   "metadata": {
    "collapsed": false
   },
   "outputs": [],
   "source": [
    "vowels = set(list('aeiou'))\n",
    "consonants = set(list(string.ascii_lowercase)) - vowels\n",
    "\n",
    "def getFirstConsonants(word):\n",
    "    fcon = ''\n",
    "    while len(word)>0 and word[0] in consonants:\n",
    "        fcon+=word[0]\n",
    "        word = word[1:]\n",
    "    return fcon,word\n",
    "\n",
    "\n",
    "def convertPigLatin(word):\n",
    "#     vowels = set(list('aeiou'))\n",
    "#     consonants = set(list(string.ascii_lowercase)) - vowels\n",
    "    cons,word=getFirstConsonants(word)\n",
    "    if len(cons) >0:\n",
    "        word+=cons+'ay'\n",
    "    else:\n",
    "        word+='way'\n",
    "    return word"
   ]
  },
  {
   "cell_type": "code",
   "execution_count": 54,
   "metadata": {
    "collapsed": false
   },
   "outputs": [
    {
     "name": "stdout",
     "output_type": "stream",
     "text": [
      "biennials iennialsbay\n",
      "tripolitan ipolitantray\n",
      "mdbg mdbgay\n",
      "roadgear oadgearray\n",
      "vang angvay\n",
      "nunnery unnerynay\n",
      "sowell owellsay\n",
      "brownpride ownpridebray\n",
      "vani anivay\n",
      "woods oodsway\n",
      "clotted ottedclay\n",
      "spiders idersspay\n",
      "bienniale iennialebay\n",
      "guragigna uragignagay\n",
      "woody oodyway\n",
      "trawling awlingtray\n",
      "ercole ercoleway\n",
      "comically omicallycay\n",
      "jonow onowjay\n",
      "regularize egularizeray\n"
     ]
    }
   ],
   "source": [
    "words2 = words[:20]\n",
    "for word in words2:\n",
    "    print word, convertPigLatin(word)"
   ]
  },
  {
   "cell_type": "code",
   "execution_count": 55,
   "metadata": {
    "collapsed": false
   },
   "outputs": [
    {
     "name": "stdout",
     "output_type": "stream",
     "text": [
      "The slowest run took 5.22 times longer than the fastest. This could mean that an intermediate result is being cached.\n",
      "1000000 loops, best of 3: 1.74 µs per loop\n"
     ]
    }
   ],
   "source": [
    "%timeit convertPigLatin(words[0])"
   ]
  },
  {
   "cell_type": "code",
   "execution_count": 56,
   "metadata": {
    "collapsed": false
   },
   "outputs": [
    {
     "data": {
      "text/plain": [
       "214288"
      ]
     },
     "execution_count": 56,
     "metadata": {},
     "output_type": "execute_result"
    }
   ],
   "source": [
    "len(words)"
   ]
  },
  {
   "cell_type": "code",
   "execution_count": 57,
   "metadata": {
    "collapsed": false
   },
   "outputs": [
    {
     "name": "stderr",
     "output_type": "stream",
     "text": [
      "100%|██████████| 214288/214288 [00:00<00:00, 329482.73it/s]\n"
     ]
    }
   ],
   "source": [
    "words_pl = []\n",
    "for word in tqdm(words):\n",
    "    #print word\n",
    "    words_pl.append(convertPigLatin(word))\n",
    "\n",
    "assert len(words_pl) == len(words)"
   ]
  },
  {
   "cell_type": "code",
   "execution_count": 58,
   "metadata": {
    "collapsed": true
   },
   "outputs": [],
   "source": [
    "pickle.dump(words,open('Data/t8_words.p','wr'))\n",
    "\n",
    "pickle.dump(words_pl,open('Data/t8_words_pl.p','wr'))"
   ]
  },
  {
   "cell_type": "markdown",
   "metadata": {
    "collapsed": true
   },
   "source": [
    "# Somebody, help Lil Wayne"
   ]
  },
  {
   "cell_type": "code",
   "execution_count": 1,
   "metadata": {
    "collapsed": false
   },
   "outputs": [
    {
     "name": "stderr",
     "output_type": "stream",
     "text": [
      "/Users/tmulc/anaconda2/envs/tensorflow/lib/python2.7/site-packages/matplotlib/font_manager.py:273: UserWarning: Matplotlib is building the font cache using fc-list. This may take a moment.\n",
      "  warnings.warn('Matplotlib is building the font cache using fc-list. This may take a moment.')\n"
     ]
    },
    {
     "name": "stdout",
     "output_type": "stream",
     "text": [
      "Populating the interactive namespace from numpy and matplotlib\n"
     ]
    }
   ],
   "source": [
    "from IPython.display import YouTubeVideo\n",
    "%pylab inline"
   ]
  },
  {
   "cell_type": "code",
   "execution_count": 2,
   "metadata": {
    "collapsed": false
   },
   "outputs": [
    {
     "data": {
      "image/jpeg": "[encoded data removed]",
      "text/html": [
       "\n",
       "        <iframe\n",
       "            width=\"400\"\n",
       "            height=\"300\"\n",
       "            src=\"https://www.youtube.com/embed/Jx2raP3P3FQ?start=101&end=105&controls=1\"\n",
       "            frameborder=\"0\"\n",
       "            allowfullscreen\n",
       "        ></iframe>\n",
       "        "
      ],
      "text/plain": [
       "<IPython.lib.display.YouTubeVideo at 0x10cece690>"
      ]
     },
     "metadata": {},
     "output_type": "display_data"
    }
   ],
   "source": [
    "vid = YouTubeVideo('Jx2raP3P3FQ',start=101,end=105,controls=1)\n",
    "display(vid)"
   ]
  },
  {
   "cell_type": "code",
   "execution_count": null,
   "metadata": {
    "collapsed": true
   },
   "outputs": [],
   "source": []
  }
 ],
 "metadata": {
  "kernelspec": {
   "display_name": "Python [conda env:tensorflow]",
   "language": "python",
   "name": "conda-env-tensorflow-py"
  },
  "language_info": {
   "codemirror_mode": {
    "name": "ipython",
    "version": 2
   },
   "file_extension": ".py",
   "mimetype": "text/x-python",
   "name": "python",
   "nbconvert_exporter": "python",
   "pygments_lexer": "ipython2",
   "version": "2.7.12"
  }
 },
 "nbformat": 4,
 "nbformat_minor": 2
}
