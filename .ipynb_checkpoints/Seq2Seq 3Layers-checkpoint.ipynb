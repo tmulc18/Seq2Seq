{
 "cells": [
  {
   "cell_type": "markdown",
   "metadata": {
    "deletable": true,
    "editable": true
   },
   "source": [
    "# Goal\n",
    "\n",
    "We will attemp to convert English into Pig Latin.  We will use the Text8 data as a corpus of text.  The modeling will be done using a sequence of characters and the input sequence will be the sequence of characters for one word.  We will use the method described [here](https://papers.nips.cc/paper/5346-sequence-to-sequence-learning-with-neural-networks.pdf) \n",
    "\n",
    "<img src=\"S2S.png\">"
   ]
  },
  {
   "cell_type": "markdown",
   "metadata": {
    "deletable": true,
    "editable": true
   },
   "source": [
    "# Import functions"
   ]
  },
  {
   "cell_type": "code",
   "execution_count": 1,
   "metadata": {
    "collapsed": false,
    "deletable": true,
    "editable": true
   },
   "outputs": [],
   "source": [
    "import pickle\n",
    "import tensorflow as tf\n",
    "import numpy as np\n",
    "import string\n",
    "from tqdm import tqdm\n",
    "import os\n",
    "from matplotlib import pyplot as plt\n",
    "%matplotlib inline"
   ]
  },
  {
   "cell_type": "markdown",
   "metadata": {
    "deletable": true,
    "editable": true
   },
   "source": [
    "# Import data"
   ]
  },
  {
   "cell_type": "code",
   "execution_count": 2,
   "metadata": {
    "collapsed": false,
    "deletable": true,
    "editable": true
   },
   "outputs": [],
   "source": [
    "words = pickle.load(open('t8_words.p'))\n",
    "words_pl = pickle.load(open('t8_words_pl.p'))"
   ]
  },
  {
   "cell_type": "code",
   "execution_count": 3,
   "metadata": {
    "collapsed": false,
    "deletable": true,
    "editable": true
   },
   "outputs": [
    {
     "name": "stdout",
     "output_type": "stream",
     "text": [
      "[('biennials', 'iennialsbay'), ('tripolitan', 'ipolitantray'), ('mdbg', 'mdbgay'), ('roadgear', 'oadgearray'), ('vang', 'angvay'), ('nunnery', 'unnerynay'), ('sowell', 'owellsay'), ('brownpride', 'ownpridebray'), ('vani', 'anivay'), ('woods', 'oodsway')]\n"
     ]
    }
   ],
   "source": [
    "print zip(words[:10],words_pl[:10])"
   ]
  },
  {
   "cell_type": "markdown",
   "metadata": {
    "deletable": true,
    "editable": true
   },
   "source": [
    "# Create validation set\n",
    "\n",
    "Taken from [here](https://en.oxforddictionaries.com/explore/weird-and-wonderful-words)"
   ]
  },
  {
   "cell_type": "code",
   "execution_count": 4,
   "metadata": {
    "collapsed": false,
    "deletable": true,
    "editable": true
   },
   "outputs": [],
   "source": [
    "def lessT(x):\n",
    "    if x <= 10:\n",
    "        return True\n",
    "    return False"
   ]
  },
  {
   "cell_type": "code",
   "execution_count": 5,
   "metadata": {
    "collapsed": false,
    "deletable": true,
    "editable": true
   },
   "outputs": [],
   "source": [
    "uncommon = ['abaya','bardolatry','blatherski','couthy','deterge','eyewater','saudade',\n",
    "            'tokoloshe','wittol','vomitous','waitron']\n",
    "assert (not any([u in words for u in uncommon]))\n",
    "assert all(map(lessT,map(len,uncommon)))"
   ]
  },
  {
   "cell_type": "markdown",
   "metadata": {
    "deletable": true,
    "editable": true
   },
   "source": [
    "# Padding inputs and outputs\n",
    "\n",
    "There is no good way to handle sequences of multiple lengths (see [here](https://www.tensorflow.org/tutorials/seq2seq)).  So we pad inputs and outputs to fixed lengths."
   ]
  },
  {
   "cell_type": "code",
   "execution_count": 6,
   "metadata": {
    "collapsed": false,
    "deletable": true,
    "editable": true
   },
   "outputs": [
    {
     "name": "stdout",
     "output_type": "stream",
     "text": [
      "10 tripolitan\n"
     ]
    }
   ],
   "source": [
    "# find maximum length of input\n",
    "max_in = 0\n",
    "ind = 0\n",
    "for i,w in enumerate(words):\n",
    "    if len(w)> max_in:\n",
    "        max_in = len(w)\n",
    "        ind = i\n",
    "print max_in, words[ind]"
   ]
  },
  {
   "cell_type": "code",
   "execution_count": 7,
   "metadata": {
    "collapsed": false,
    "deletable": true,
    "editable": true
   },
   "outputs": [
    {
     "name": "stdout",
     "output_type": "stream",
     "text": [
      "13 altagraciaway\n"
     ]
    }
   ],
   "source": [
    "# find maximum length of input\n",
    "max_out = 0\n",
    "ind = 0\n",
    "for i,w in enumerate(words_pl):\n",
    "    if len(w)> max_out:\n",
    "        max_out = len(w)\n",
    "        ind = i\n",
    "print max_out, words_pl[ind]"
   ]
  },
  {
   "cell_type": "code",
   "execution_count": 8,
   "metadata": {
    "collapsed": true,
    "deletable": true,
    "editable": true
   },
   "outputs": [],
   "source": [
    "pad_char = '~'\n",
    "def pad_in(w):\n",
    "    while(len(w)<max_in):\n",
    "        w = pad_char+w\n",
    "    return w\n",
    "\n",
    "def pad_out(w):\n",
    "    while(len(w)<max_out):\n",
    "        w = w+pad_char\n",
    "    return w\n",
    "\n",
    "def un_pad(w):\n",
    "    return w.replace(pad_char,'')"
   ]
  },
  {
   "cell_type": "code",
   "execution_count": 9,
   "metadata": {
    "collapsed": false,
    "deletable": true,
    "editable": true
   },
   "outputs": [
    {
     "name": "stdout",
     "output_type": "stream",
     "text": [
      "~biennials\n",
      "iennialsbay~~\n"
     ]
    }
   ],
   "source": [
    "print pad_in(words[0])\n",
    "print pad_out(words_pl[0])"
   ]
  },
  {
   "cell_type": "markdown",
   "metadata": {
    "deletable": true,
    "editable": true
   },
   "source": [
    "# Vectorize data"
   ]
  },
  {
   "cell_type": "code",
   "execution_count": 10,
   "metadata": {
    "collapsed": false,
    "deletable": true,
    "editable": true
   },
   "outputs": [],
   "source": [
    "alphabet = string.ascii_lowercase+'~'\n",
    "alphabet_size = len(alphabet)+1 #need to add one for the end of sequence key\n",
    "\n",
    "#returns a unique integer for the letter\n",
    "def char2id(x):\n",
    "    return alphabet.find(x)\n",
    "\n",
    "#return a one hot encoded vector of the letter\n",
    "def one_hot(l):\n",
    "    r = np.zeros(alphabet_size)\n",
    "    r[char2id(l)] = 1.0\n",
    "    return r\n",
    "\n",
    "#return the letter of the one-hot encoded letter\n",
    "def un_one_hot(v):\n",
    "    ind = np.argmax(v)\n",
    "#     if ind >= alphabet_size-2:\n",
    "    if ind == alphabet_size-1:\n",
    "        return ''\n",
    "    else:\n",
    "        return alphabet[ind]\n",
    "\n",
    "#returns the the End of Sequence vector\n",
    "def getEOSvec():\n",
    "    r = np.zeros(alphabet_size)\n",
    "    r[alphabet_size-1] = 1.0\n",
    "    return r\n",
    "\n",
    "#returns the word a matrix of one hot encoded vectors\n",
    "def vectorizeWord(w):\n",
    "    r = np.ndarray((len(w)+1,alphabet_size))\n",
    "    for i,l in enumerate(w):\n",
    "        r[i] = one_hot(l)\n",
    "    r[len(w)] = getEOSvec()\n",
    "    return r\n",
    "\n",
    "#returns the string of the vectorized word\n",
    "def unvectorizeWord(M):\n",
    "    r = ''\n",
    "    for i in xrange(M.shape[0]):\n",
    "        r += un_one_hot(M[i])\n",
    "    return r"
   ]
  },
  {
   "cell_type": "markdown",
   "metadata": {
    "deletable": true,
    "editable": true
   },
   "source": [
    "# Batch Generator"
   ]
  },
  {
   "cell_type": "code",
   "execution_count": 11,
   "metadata": {
    "collapsed": true,
    "deletable": true,
    "editable": true
   },
   "outputs": [],
   "source": [
    "batch_size=30"
   ]
  },
  {
   "cell_type": "code",
   "execution_count": 12,
   "metadata": {
    "collapsed": true,
    "deletable": true,
    "editable": true
   },
   "outputs": [],
   "source": [
    "class Batch(object):\n",
    "    def __init__(self,words,words_pl,batch_size):\n",
    "        self.words = words\n",
    "        self.words_pl = words_pl\n",
    "        self.batch_size = batch_size\n",
    "        self.size = len(words)\n",
    "        self.segment_size = self.size/batch_size\n",
    "        self.cursors = [b*self.segment_size for b in range(batch_size)]\n",
    "        #self.batch = np.ndarray(self.batch_size)\n",
    "    def nextBatch(self,reverse = True):\n",
    "        if reverse:\n",
    "            x = np.array([vectorizeWord(pad_in(words[c][::-1])) for c in self.cursors])\n",
    "        else:\n",
    "            x = np.array([vectorizeWord(pad_in(words[c])) for c in self.cursors])\n",
    "        y = np.array([vectorizeWord(pad_out(words_pl[c])) for c in self.cursors])\n",
    "        self.cursors = [(c+1)%self.size for c in self.cursors]\n",
    "        return x,y"
   ]
  },
  {
   "cell_type": "markdown",
   "metadata": {
    "deletable": true,
    "editable": true
   },
   "source": [
    "# Deep LSTM\n",
    "\n",
    "https://arxiv.org/pdf/1409.2329.pdf\n",
    "\n",
    "<img src=\"OtherLSTM.png\">  <img src=\"stacked_LSTM.png\", width = \"25%\", height = \"25%\">"
   ]
  },
  {
   "cell_type": "code",
   "execution_count": 14,
   "metadata": {
    "collapsed": false,
    "deletable": true,
    "editable": true
   },
   "outputs": [
    {
     "name": "stdout",
     "output_type": "stream",
     "text": [
      "WARNING:tensorflow:From <ipython-input-14-2efc55b253d8>:118 in <module>.: initialize_all_variables (from tensorflow.python.ops.variables) is deprecated and will be removed after 2017-03-02.\n",
      "Instructions for updating:\n",
      "Use `tf.global_variables_initializer` instead.\n"
     ]
    }
   ],
   "source": [
    "#NOTE: the +1 in max_in+1 and max_out+1 happens because the end token is needed\n",
    "\n",
    "num_nodes = 500\n",
    "g = tf.Graph()\n",
    "with g.as_default():\n",
    "    #input sequence\n",
    "    input_sequence = list()\n",
    "    for i in range(max_in+1):\n",
    "        input_sequence.append(tf.placeholder(tf.float32,shape=(batch_size,alphabet_size)))\n",
    "    \n",
    "    #target sequence\n",
    "    target_sequence = list()\n",
    "    for i in range(max_out+1):\n",
    "        target_sequence.append(tf.placeholder(tf.float32,shape=(batch_size,alphabet_size)))\n",
    "        \n",
    "    \n",
    "    #the previous state that gets fed into the cell\n",
    "    state_0 = tf.constant(0.0,dtype=tf.float32,shape=[batch_size,num_nodes])\n",
    "    hidden_0 = tf.constant(0.0,dtype=tf.float32,shape=[batch_size,num_nodes])\n",
    "    #for validation inference\n",
    "    state_0v = tf.constant(0.0,dtype=tf.float32,shape=[1,num_nodes])\n",
    "    hidden_0v = tf.constant(0.0,dtype=tf.float32,shape=[1,num_nodes])\n",
    "    \n",
    "    def create_LSTM_Variables(num_nodes,Name,is_input=False):\n",
    "        if is_input:\n",
    "            fx = tf.Variable(tf.truncated_normal([num_nodes+alphabet_size, num_nodes], -0.08, 0.08),name=Name+'fx')\n",
    "            ix = tf.Variable(tf.truncated_normal([num_nodes+alphabet_size, num_nodes], -0.08, 0.08),name=Name+'ix')\n",
    "            cx = tf.Variable(tf.truncated_normal([num_nodes+alphabet_size, num_nodes], -0.08, 0.08),name=Name+'cx')\n",
    "            ox = tf.Variable(tf.truncated_normal([num_nodes+alphabet_size, num_nodes], -0.08, 0.08),name=Name+'ox')\n",
    "        else:\n",
    "            fx = tf.Variable(tf.truncated_normal([2*num_nodes, num_nodes], -0.08, 0.08),name=Name+'fx')\n",
    "            ix = tf.Variable(tf.truncated_normal([2*num_nodes, num_nodes], -0.08, 0.08),name=Name+'ix')\n",
    "            cx = tf.Variable(tf.truncated_normal([2*num_nodes, num_nodes], -0.08, 0.08),name=Name+'cx')\n",
    "            ox = tf.Variable(tf.truncated_normal([2*num_nodes, num_nodes], -0.08, 0.08),name=Name+'ox')\n",
    "        fb = tf.Variable(tf.zeros([1, num_nodes]),name=Name+'fb')\n",
    "        ib = tf.Variable(tf.zeros([1, num_nodes]),name=Name+'ib')\n",
    "        cb = tf.Variable(tf.zeros([1, num_nodes]),name=Name+'cb')\n",
    "        ob = tf.Variable(tf.zeros([1, num_nodes]),name=Name+'ob')\n",
    "        return[[fx,ix,cx,ox],[fb,ib,cb,ob]]\n",
    "    \n",
    "    e1_var = create_LSTM_Variables(num_nodes,'e1',is_input = True)\n",
    "    e2_var = create_LSTM_Variables(num_nodes,'e2')\n",
    "    e3_var = create_LSTM_Variables(num_nodes,'e3')\n",
    "    \n",
    "    d1_var = create_LSTM_Variables(num_nodes,'d1',is_input = True)\n",
    "    d2_var = create_LSTM_Variables(num_nodes,'d2')\n",
    "    d3_var = create_LSTM_Variables(num_nodes,'d3')\n",
    "    \n",
    "    #softmax\n",
    "    W_softmax = tf.Variable(tf.truncated_normal([num_nodes,alphabet_size],-0.08,0.08))\n",
    "    b_softmax = tf.Variable(tf.zeros([1,alphabet_size]))\n",
    "    \n",
    "    #model\n",
    "    #hl is the previous hiddent layer from current time step but previous  layer\n",
    "    #ht is the previous hidden layer from the current layer but previous timestep\n",
    "    #state is the previous state from the same layer but previous timestep\n",
    "    def LSTM(hl,ht,state,varrs):\n",
    "        #get variables out\n",
    "        x,b=varrs[0],varrs[1]\n",
    "        fx,ix,cx,ox = x[0],x[1],x[2],x[3]\n",
    "        fb,ib,cb,ob = b[0],b[1],b[1],b[3]\n",
    "        \n",
    "        #computations\n",
    "        input_chan = tf.concat(1,[hl,ht])\n",
    "        forget_gate = tf.sigmoid(tf.matmul(input_chan,fx)+fb)\n",
    "        insert_gate = tf.sigmoid(tf.matmul(input_chan,ix)+ib)\n",
    "        output_gate = tf.sigmoid(tf.matmul(input_chan,ox)+ob)\n",
    "        candidate = tf.tanh(tf.matmul(input_chan,cx)+cb)\n",
    "        state = forget_gate * state + insert_gate * candidate\n",
    "        h = output_gate * tf.tanh(state)\n",
    "        return h, state\n",
    "    \n",
    "    \n",
    "    def model(input_sequence,train = True):\n",
    "        #Encode sequence\n",
    "        for i in range(max_in+1):\n",
    "            if i == 0:\n",
    "                if train:\n",
    "                    state1,h1 = state_0,hidden_0\n",
    "                    state2,h2 = state_0,hidden_0\n",
    "                    state3,h3 = state_0,hidden_0\n",
    "                else:\n",
    "                    state1,h1 = state_0v,hidden_0v\n",
    "                    state2,h2 = state_0v,hidden_0v\n",
    "                    state3,h3 = state_0v,hidden_0v\n",
    "\n",
    "            h1,state1 = LSTM(h1,input_sequence[i],state1,e1_var) #layer 1\n",
    "            h2,state2 = LSTM(h2,h1,state2,e2_var) #layer 2\n",
    "            h3,state3 = LSTM(h3,h2,state3,e3_var) #layer 3\n",
    "\n",
    "        #Decode sequence\n",
    "        logits_list = list()\n",
    "        for i in range(max_out+1):\n",
    "            if i == 0:\n",
    "                h1,state1 = LSTM(h1,input_sequence[-1],state1,d1_var) #layer 1\n",
    "\n",
    "            else:\n",
    "                h1,state1 = LSTM(h1,tf.nn.softmax(logit),state1,d1_var) #layer 1\n",
    "            h2,state2 = LSTM(h2,h1,state2,d2_var) #layer 2\n",
    "            h3,state3 = LSTM(h3,h2,state3,d3_var) #layer 3\n",
    "\n",
    "            logit =tf.matmul(h3,W_softmax)+b_softmax\n",
    "            logits_list.append(logit)\n",
    "\n",
    "        logits = tf.concat(0,logits_list)\n",
    "        return logits\n",
    "    \n",
    "    #train\n",
    "    logits_train = model(input_sequence)\n",
    "    loss = tf.reduce_mean(tf.nn.softmax_cross_entropy_with_logits(logits=logits_train,labels=tf.concat(0,target_sequence)))\n",
    "    opt = tf.train.AdamOptimizer(learning_rate=1e-3).minimize(loss)\n",
    "    \n",
    "    #inference train\n",
    "    pred = tf.nn.softmax(logits_train)\n",
    "    \n",
    "    saver = tf.train.Saver()\n",
    "        \n",
    "    init = tf.initialize_all_variables()"
   ]
  },
  {
   "cell_type": "code",
   "execution_count": 15,
   "metadata": {
    "collapsed": true,
    "deletable": true,
    "editable": true
   },
   "outputs": [],
   "source": [
    "sess = tf.Session(graph = g)\n",
    "sess.run(init)\n",
    "b = Batch(words,words_pl,batch_size)\n",
    "losses = []"
   ]
  },
  {
   "cell_type": "code",
   "execution_count": 17,
   "metadata": {
    "collapsed": false
   },
   "outputs": [],
   "source": [
    "# saver.restore(sess,os.getcwd()+'/model3.ckpt')"
   ]
  },
  {
   "cell_type": "code",
   "execution_count": 29,
   "metadata": {
    "collapsed": false
   },
   "outputs": [
    {
     "data": {
      "text/plain": [
       "7142"
      ]
     },
     "execution_count": 29,
     "metadata": {},
     "output_type": "execute_result"
    }
   ],
   "source": [
    "epoch_steps = b.segment_size\n",
    "epoch_steps"
   ]
  },
  {
   "cell_type": "code",
   "execution_count": 30,
   "metadata": {
    "collapsed": false,
    "deletable": true,
    "editable": true
   },
   "outputs": [
    {
     "name": "stderr",
     "output_type": "stream",
     "text": [
      "  0%|          | 3/5001 [00:00<10:54,  7.63it/s]"
     ]
    },
    {
     "name": "stdout",
     "output_type": "stream",
     "text": [
      "loss:  0.0620775\n",
      "Input:           unmanifest\n",
      "Output:          unmanifectway\n",
      "Correct Output:  unmanifestway\n",
      " \n"
     ]
    },
    {
     "name": "stderr",
     "output_type": "stream",
     "text": [
      "  2%|▏         | 103/5001 [00:08<07:07, 11.46it/s]"
     ]
    },
    {
     "name": "stdout",
     "output_type": "stream",
     "text": [
      "loss:  0.0256837\n",
      "Input:           equivocal~\n",
      "Output:          equivocalway~\n",
      "Correct Output:  equivocalway~\n",
      " \n"
     ]
    },
    {
     "name": "stderr",
     "output_type": "stream",
     "text": [
      "  4%|▍         | 203/5001 [00:17<07:33, 10.58it/s]"
     ]
    },
    {
     "name": "stdout",
     "output_type": "stream",
     "text": [
      "loss:  0.0449511\n",
      "Input:           quilty~~~~\n",
      "Output:          uiltyqay~~~~~\n",
      "Correct Output:  uiltyqay~~~~~\n",
      " \n"
     ]
    },
    {
     "name": "stderr",
     "output_type": "stream",
     "text": [
      "  6%|▌         | 303/5001 [00:25<06:48, 11.49it/s]"
     ]
    },
    {
     "name": "stdout",
     "output_type": "stream",
     "text": [
      "loss:  0.0261725\n",
      "Input:           gelon~~~~~\n",
      "Output:          elongay~~~~~~\n",
      "Correct Output:  elongay~~~~~~\n",
      " \n"
     ]
    },
    {
     "name": "stderr",
     "output_type": "stream",
     "text": [
      "  8%|▊         | 403/5001 [00:34<06:42, 11.41it/s]"
     ]
    },
    {
     "name": "stdout",
     "output_type": "stream",
     "text": [
      "loss:  0.131156\n",
      "Input:           punters~~~\n",
      "Output:          unterspay~~~~\n",
      "Correct Output:  unterspay~~~~\n",
      " \n"
     ]
    },
    {
     "name": "stderr",
     "output_type": "stream",
     "text": [
      " 10%|█         | 503/5001 [00:42<06:38, 11.28it/s]"
     ]
    },
    {
     "name": "stdout",
     "output_type": "stream",
     "text": [
      "loss:  0.0233885\n",
      "Input:           nicoud~~~~\n",
      "Output:          icoudnay~~~~~\n",
      "Correct Output:  icoudnay~~~~~\n",
      " \n"
     ]
    },
    {
     "name": "stderr",
     "output_type": "stream",
     "text": [
      " 12%|█▏        | 603/5001 [00:51<06:31, 11.23it/s]"
     ]
    },
    {
     "name": "stdout",
     "output_type": "stream",
     "text": [
      "loss:  0.0414006\n",
      "Input:           ardilaun~~\n",
      "Output:          ardilaunway~~\n",
      "Correct Output:  ardilaunway~~\n",
      " \n"
     ]
    },
    {
     "name": "stderr",
     "output_type": "stream",
     "text": [
      " 14%|█▍        | 703/5001 [00:59<06:18, 11.36it/s]"
     ]
    },
    {
     "name": "stdout",
     "output_type": "stream",
     "text": [
      "loss:  0.0129006\n",
      "Input:           sheng~~~~~\n",
      "Output:          engshay~~~~~~\n",
      "Correct Output:  engshay~~~~~~\n",
      " \n"
     ]
    },
    {
     "name": "stderr",
     "output_type": "stream",
     "text": [
      " 16%|█▌        | 803/5001 [01:07<06:08, 11.40it/s]"
     ]
    },
    {
     "name": "stdout",
     "output_type": "stream",
     "text": [
      "loss:  0.0162584\n",
      "Input:           athem~~~~~\n",
      "Output:          athemway~~~~~\n",
      "Correct Output:  athemway~~~~~\n",
      " \n"
     ]
    },
    {
     "name": "stderr",
     "output_type": "stream",
     "text": [
      " 18%|█▊        | 903/5001 [01:16<05:59, 11.39it/s]"
     ]
    },
    {
     "name": "stdout",
     "output_type": "stream",
     "text": [
      "loss:  0.0574528\n",
      "Input:           hdmi~~~~~~\n",
      "Output:          ihmmay~~~~~~~\n",
      "Correct Output:  ihdmay~~~~~~~\n",
      " \n"
     ]
    },
    {
     "name": "stderr",
     "output_type": "stream",
     "text": [
      " 20%|██        | 1003/5001 [01:24<05:48, 11.46it/s]"
     ]
    },
    {
     "name": "stdout",
     "output_type": "stream",
     "text": [
      "loss:  0.0236404\n",
      "Input:           sotkanet~~\n",
      "Output:          otkanetsay~~~\n",
      "Correct Output:  otkanetsay~~~\n",
      " \n"
     ]
    },
    {
     "name": "stderr",
     "output_type": "stream",
     "text": [
      " 22%|██▏       | 1103/5001 [01:32<05:44, 11.32it/s]"
     ]
    },
    {
     "name": "stdout",
     "output_type": "stream",
     "text": [
      "loss:  0.0461024\n",
      "Input:           mntv~~~~~~\n",
      "Output:          mntvay~~~~~~~\n",
      "Correct Output:  mntvay~~~~~~~\n",
      " \n"
     ]
    },
    {
     "name": "stderr",
     "output_type": "stream",
     "text": [
      " 24%|██▍       | 1203/5001 [01:41<05:33, 11.39it/s]"
     ]
    },
    {
     "name": "stdout",
     "output_type": "stream",
     "text": [
      "loss:  0.0164254\n",
      "Input:           deerfoot~~\n",
      "Output:          eerfootday~~~\n",
      "Correct Output:  eerfootday~~~\n",
      " \n"
     ]
    },
    {
     "name": "stderr",
     "output_type": "stream",
     "text": [
      " 26%|██▌       | 1303/5001 [01:49<05:23, 11.43it/s]"
     ]
    },
    {
     "name": "stdout",
     "output_type": "stream",
     "text": [
      "loss:  0.0280573\n",
      "Input:           wagers~~~~\n",
      "Output:          agersway~~~~~\n",
      "Correct Output:  agersway~~~~~\n",
      " \n"
     ]
    },
    {
     "name": "stderr",
     "output_type": "stream",
     "text": [
      " 28%|██▊       | 1403/5001 [01:58<05:20, 11.24it/s]"
     ]
    },
    {
     "name": "stdout",
     "output_type": "stream",
     "text": [
      "loss:  0.0859764\n",
      "Input:           vojt~~~~~~\n",
      "Output:          ojtvay~~~~~~~\n",
      "Correct Output:  ojtvay~~~~~~~\n",
      " \n"
     ]
    },
    {
     "name": "stderr",
     "output_type": "stream",
     "text": [
      " 30%|███       | 1503/5001 [02:06<05:02, 11.55it/s]"
     ]
    },
    {
     "name": "stdout",
     "output_type": "stream",
     "text": [
      "loss:  0.0266604\n",
      "Input:           mined~~~~~\n",
      "Output:          inedmay~~~~~~\n",
      "Correct Output:  inedmay~~~~~~\n",
      " \n"
     ]
    },
    {
     "name": "stderr",
     "output_type": "stream",
     "text": [
      " 32%|███▏      | 1603/5001 [02:14<05:00, 11.31it/s]"
     ]
    },
    {
     "name": "stdout",
     "output_type": "stream",
     "text": [
      "loss:  0.017252\n",
      "Input:           broadbeach\n",
      "Output:          oadbeachbray~\n",
      "Correct Output:  oadbeachbray~\n",
      " \n"
     ]
    },
    {
     "name": "stderr",
     "output_type": "stream",
     "text": [
      " 34%|███▍      | 1703/5001 [02:23<04:44, 11.59it/s]"
     ]
    },
    {
     "name": "stdout",
     "output_type": "stream",
     "text": [
      "loss:  0.0561533\n",
      "Input:           atea~~~~~~\n",
      "Output:          ateaway~~~~~~\n",
      "Correct Output:  ateaway~~~~~~\n",
      " \n"
     ]
    },
    {
     "name": "stderr",
     "output_type": "stream",
     "text": [
      " 36%|███▌      | 1803/5001 [02:31<04:39, 11.44it/s]"
     ]
    },
    {
     "name": "stdout",
     "output_type": "stream",
     "text": [
      "loss:  0.0316903\n",
      "Input:           tamassia~~\n",
      "Output:          amassiatay~~~\n",
      "Correct Output:  amassiatay~~~\n",
      " \n"
     ]
    },
    {
     "name": "stderr",
     "output_type": "stream",
     "text": [
      " 38%|███▊      | 1903/5001 [02:40<04:29, 11.48it/s]"
     ]
    },
    {
     "name": "stdout",
     "output_type": "stream",
     "text": [
      "loss:  0.0291154\n",
      "Input:           kitabu~~~~\n",
      "Output:          itabukay~~~~~\n",
      "Correct Output:  itabukay~~~~~\n",
      " \n"
     ]
    },
    {
     "name": "stderr",
     "output_type": "stream",
     "text": [
      " 40%|████      | 2003/5001 [02:48<04:20, 11.49it/s]"
     ]
    },
    {
     "name": "stdout",
     "output_type": "stream",
     "text": [
      "loss:  0.0126829\n",
      "Input:           chanceless\n",
      "Output:          ancelesschay~\n",
      "Correct Output:  ancelesschay~\n",
      " \n"
     ]
    },
    {
     "name": "stderr",
     "output_type": "stream",
     "text": [
      " 42%|████▏     | 2103/5001 [02:57<04:13, 11.44it/s]"
     ]
    },
    {
     "name": "stdout",
     "output_type": "stream",
     "text": [
      "loss:  0.042716\n",
      "Input:           cockle~~~~\n",
      "Output:          ocklecay~~~~~\n",
      "Correct Output:  ocklecay~~~~~\n",
      " \n"
     ]
    },
    {
     "name": "stderr",
     "output_type": "stream",
     "text": [
      " 44%|████▍     | 2203/5001 [03:05<04:06, 11.35it/s]"
     ]
    },
    {
     "name": "stdout",
     "output_type": "stream",
     "text": [
      "loss:  0.0152698\n",
      "Input:           cnida~~~~~\n",
      "Output:          idacnay~~~~~~\n",
      "Correct Output:  idacnay~~~~~~\n",
      " \n"
     ]
    },
    {
     "name": "stderr",
     "output_type": "stream",
     "text": [
      " 46%|████▌     | 2303/5001 [03:13<03:56, 11.39it/s]"
     ]
    },
    {
     "name": "stdout",
     "output_type": "stream",
     "text": [
      "loss:  0.0374374\n",
      "Input:           orlandini~\n",
      "Output:          orlandiniway~\n",
      "Correct Output:  orlandiniway~\n",
      " \n"
     ]
    },
    {
     "name": "stderr",
     "output_type": "stream",
     "text": [
      " 48%|████▊     | 2403/5001 [03:22<03:49, 11.34it/s]"
     ]
    },
    {
     "name": "stdout",
     "output_type": "stream",
     "text": [
      "loss:  0.0419032\n",
      "Input:           textbook~~\n",
      "Output:          extbooktay~~~\n",
      "Correct Output:  extbooktay~~~\n",
      " \n"
     ]
    },
    {
     "name": "stderr",
     "output_type": "stream",
     "text": [
      " 50%|█████     | 2503/5001 [03:30<03:37, 11.49it/s]"
     ]
    },
    {
     "name": "stdout",
     "output_type": "stream",
     "text": [
      "loss:  0.0204889\n",
      "Input:           caldmore~~\n",
      "Output:          aldmorecay~~~\n",
      "Correct Output:  aldmorecay~~~\n",
      " \n"
     ]
    },
    {
     "name": "stderr",
     "output_type": "stream",
     "text": [
      " 52%|█████▏    | 2603/5001 [03:38<03:32, 11.29it/s]"
     ]
    },
    {
     "name": "stdout",
     "output_type": "stream",
     "text": [
      "loss:  0.019139\n",
      "Input:           indepently\n",
      "Output:          indepentlyway\n",
      "Correct Output:  indepentlyway\n",
      " \n"
     ]
    },
    {
     "name": "stderr",
     "output_type": "stream",
     "text": [
      " 54%|█████▍    | 2703/5001 [03:47<03:18, 11.55it/s]"
     ]
    },
    {
     "name": "stdout",
     "output_type": "stream",
     "text": [
      "loss:  0.059061\n",
      "Input:           nanini~~~~\n",
      "Output:          anininay~~~~~\n",
      "Correct Output:  anininay~~~~~\n",
      " \n"
     ]
    },
    {
     "name": "stderr",
     "output_type": "stream",
     "text": [
      " 56%|█████▌    | 2803/5001 [03:55<03:14, 11.32it/s]"
     ]
    },
    {
     "name": "stdout",
     "output_type": "stream",
     "text": [
      "loss:  0.0334718\n",
      "Input:           okhas~~~~~\n",
      "Output:          okhasway~~~~~\n",
      "Correct Output:  okhasway~~~~~\n",
      " \n"
     ]
    },
    {
     "name": "stderr",
     "output_type": "stream",
     "text": [
      " 58%|█████▊    | 2903/5001 [04:04<03:04, 11.39it/s]"
     ]
    },
    {
     "name": "stdout",
     "output_type": "stream",
     "text": [
      "loss:  0.00730868\n",
      "Input:           boudiga~~~\n",
      "Output:          oudigabay~~~~\n",
      "Correct Output:  oudigabay~~~~\n",
      " \n"
     ]
    },
    {
     "name": "stderr",
     "output_type": "stream",
     "text": [
      " 60%|██████    | 3003/5001 [04:12<02:54, 11.43it/s]"
     ]
    },
    {
     "name": "stdout",
     "output_type": "stream",
     "text": [
      "loss:  0.0147266\n",
      "Input:           tribal~~~~\n",
      "Output:          ibaltray~~~~~\n",
      "Correct Output:  ibaltray~~~~~\n",
      " \n"
     ]
    },
    {
     "name": "stderr",
     "output_type": "stream",
     "text": [
      " 62%|██████▏   | 3103/5001 [04:20<02:46, 11.40it/s]"
     ]
    },
    {
     "name": "stdout",
     "output_type": "stream",
     "text": [
      "loss:  0.0145968\n",
      "Input:           cherbury~~\n",
      "Output:          erburychay~~~\n",
      "Correct Output:  erburychay~~~\n",
      " \n"
     ]
    },
    {
     "name": "stderr",
     "output_type": "stream",
     "text": [
      " 64%|██████▍   | 3203/5001 [04:29<02:34, 11.61it/s]"
     ]
    },
    {
     "name": "stdout",
     "output_type": "stream",
     "text": [
      "loss:  0.0585774\n",
      "Input:           castellu~~\n",
      "Output:          astellucay~~~\n",
      "Correct Output:  astellucay~~~\n",
      " \n"
     ]
    },
    {
     "name": "stderr",
     "output_type": "stream",
     "text": [
      " 66%|██████▌   | 3303/5001 [04:37<02:28, 11.43it/s]"
     ]
    },
    {
     "name": "stdout",
     "output_type": "stream",
     "text": [
      "loss:  0.0704653\n",
      "Input:           mandala~~~\n",
      "Output:          andalamay~~~~\n",
      "Correct Output:  andalamay~~~~\n",
      " \n"
     ]
    },
    {
     "name": "stderr",
     "output_type": "stream",
     "text": [
      " 68%|██████▊   | 3403/5001 [04:46<02:20, 11.39it/s]"
     ]
    },
    {
     "name": "stdout",
     "output_type": "stream",
     "text": [
      "loss:  0.006235\n",
      "Input:           paperclick\n",
      "Output:          aperclickpay~\n",
      "Correct Output:  aperclickpay~\n",
      " \n"
     ]
    },
    {
     "name": "stderr",
     "output_type": "stream",
     "text": [
      " 70%|███████   | 3503/5001 [04:54<02:11, 11.41it/s]"
     ]
    },
    {
     "name": "stdout",
     "output_type": "stream",
     "text": [
      "loss:  0.0304102\n",
      "Input:           camote~~~~\n",
      "Output:          amotecay~~~~~\n",
      "Correct Output:  amotecay~~~~~\n",
      " \n"
     ]
    },
    {
     "name": "stderr",
     "output_type": "stream",
     "text": [
      " 72%|███████▏  | 3603/5001 [05:02<02:01, 11.50it/s]"
     ]
    },
    {
     "name": "stdout",
     "output_type": "stream",
     "text": [
      "loss:  0.0355545\n",
      "Input:           ingerman~~\n",
      "Output:          ingermanway~~\n",
      "Correct Output:  ingermanway~~\n",
      " \n"
     ]
    },
    {
     "name": "stderr",
     "output_type": "stream",
     "text": [
      " 74%|███████▍  | 3703/5001 [05:11<01:53, 11.45it/s]"
     ]
    },
    {
     "name": "stdout",
     "output_type": "stream",
     "text": [
      "loss:  0.0134291\n",
      "Input:           comand~~~~\n",
      "Output:          omandcay~~~~~\n",
      "Correct Output:  omandcay~~~~~\n",
      " \n"
     ]
    },
    {
     "name": "stderr",
     "output_type": "stream",
     "text": [
      " 76%|███████▌  | 3803/5001 [05:19<01:43, 11.54it/s]"
     ]
    },
    {
     "name": "stdout",
     "output_type": "stream",
     "text": [
      "loss:  0.0154765\n",
      "Input:           rosett~~~~\n",
      "Output:          osettray~~~~~\n",
      "Correct Output:  osettray~~~~~\n",
      " \n"
     ]
    },
    {
     "name": "stderr",
     "output_type": "stream",
     "text": [
      " 78%|███████▊  | 3903/5001 [05:28<01:35, 11.49it/s]"
     ]
    },
    {
     "name": "stdout",
     "output_type": "stream",
     "text": [
      "loss:  0.00550721\n",
      "Input:           quammen~~~\n",
      "Output:          uammenqay~~~~\n",
      "Correct Output:  uammenqay~~~~\n",
      " \n"
     ]
    },
    {
     "name": "stderr",
     "output_type": "stream",
     "text": [
      " 80%|████████  | 4003/5001 [05:36<01:26, 11.49it/s]"
     ]
    },
    {
     "name": "stdout",
     "output_type": "stream",
     "text": [
      "loss:  0.00845804\n",
      "Input:           daugther~~\n",
      "Output:          augtherday~~~\n",
      "Correct Output:  augtherday~~~\n",
      " \n"
     ]
    },
    {
     "name": "stderr",
     "output_type": "stream",
     "text": [
      " 82%|████████▏ | 4103/5001 [05:44<01:18, 11.41it/s]"
     ]
    },
    {
     "name": "stdout",
     "output_type": "stream",
     "text": [
      "loss:  0.011697\n",
      "Input:           taiaha~~~~\n",
      "Output:          aiahatay~~~~~\n",
      "Correct Output:  aiahatay~~~~~\n",
      " \n"
     ]
    },
    {
     "name": "stderr",
     "output_type": "stream",
     "text": [
      " 84%|████████▍ | 4203/5001 [05:53<01:10, 11.24it/s]"
     ]
    },
    {
     "name": "stdout",
     "output_type": "stream",
     "text": [
      "loss:  0.0347584\n",
      "Input:           nissa~~~~~\n",
      "Output:          issanay~~~~~~\n",
      "Correct Output:  issanay~~~~~~\n",
      " \n"
     ]
    },
    {
     "name": "stderr",
     "output_type": "stream",
     "text": [
      " 86%|████████▌ | 4303/5001 [06:01<01:00, 11.52it/s]"
     ]
    },
    {
     "name": "stdout",
     "output_type": "stream",
     "text": [
      "loss:  0.0109279\n",
      "Input:           antelope~~\n",
      "Output:          antelopeway~~\n",
      "Correct Output:  antelopeway~~\n",
      " \n"
     ]
    },
    {
     "name": "stderr",
     "output_type": "stream",
     "text": [
      " 88%|████████▊ | 4403/5001 [06:10<00:52, 11.40it/s]"
     ]
    },
    {
     "name": "stdout",
     "output_type": "stream",
     "text": [
      "loss:  0.054379\n",
      "Input:           qualifying\n",
      "Output:          ualifyingqay~\n",
      "Correct Output:  ualifyingqay~\n",
      " \n"
     ]
    },
    {
     "name": "stderr",
     "output_type": "stream",
     "text": [
      " 90%|█████████ | 4503/5001 [06:18<00:43, 11.40it/s]"
     ]
    },
    {
     "name": "stdout",
     "output_type": "stream",
     "text": [
      "loss:  0.0320379\n",
      "Input:           mechanical\n",
      "Output:          echanicalmay~\n",
      "Correct Output:  echanicalmay~\n",
      " \n"
     ]
    },
    {
     "name": "stderr",
     "output_type": "stream",
     "text": [
      " 92%|█████████▏| 4603/5001 [06:26<00:35, 11.23it/s]"
     ]
    },
    {
     "name": "stdout",
     "output_type": "stream",
     "text": [
      "loss:  0.0284221\n",
      "Input:           endf~~~~~~\n",
      "Output:          endfway~~~~~~\n",
      "Correct Output:  endfway~~~~~~\n",
      " \n"
     ]
    },
    {
     "name": "stderr",
     "output_type": "stream",
     "text": [
      " 94%|█████████▍| 4703/5001 [06:35<00:25, 11.48it/s]"
     ]
    },
    {
     "name": "stdout",
     "output_type": "stream",
     "text": [
      "loss:  0.00930039\n",
      "Input:           sheck~~~~~\n",
      "Output:          eckshay~~~~~~\n",
      "Correct Output:  eckshay~~~~~~\n",
      " \n"
     ]
    },
    {
     "name": "stderr",
     "output_type": "stream",
     "text": [
      " 96%|█████████▌| 4803/5001 [06:43<00:17, 11.50it/s]"
     ]
    },
    {
     "name": "stdout",
     "output_type": "stream",
     "text": [
      "loss:  0.010853\n",
      "Input:           hatorah~~~\n",
      "Output:          atorahhay~~~~\n",
      "Correct Output:  atorahhay~~~~\n",
      " \n"
     ]
    },
    {
     "name": "stderr",
     "output_type": "stream",
     "text": [
      " 98%|█████████▊| 4903/5001 [06:52<00:08, 11.30it/s]"
     ]
    },
    {
     "name": "stdout",
     "output_type": "stream",
     "text": [
      "loss:  0.0259013\n",
      "Input:           boldirev~~\n",
      "Output:          oldirevbay~~~\n",
      "Correct Output:  oldirevbay~~~\n",
      " \n"
     ]
    },
    {
     "name": "stderr",
     "output_type": "stream",
     "text": [
      "100%|██████████| 5001/5001 [07:00<00:00, 11.14it/s]"
     ]
    },
    {
     "name": "stdout",
     "output_type": "stream",
     "text": [
      "loss:  0.0376123\n",
      "Input:           terbock~~~\n",
      "Output:          erbocktay~~~~\n",
      "Correct Output:  erbocktay~~~~\n",
      " \n"
     ]
    },
    {
     "name": "stderr",
     "output_type": "stream",
     "text": [
      "\n"
     ]
    }
   ],
   "source": [
    "num_steps = 5001\n",
    "for s in tqdm(range(num_steps)):\n",
    "    fd = {}\n",
    "    x,y = b.nextBatch(reverse=True)\n",
    "    for i in range(len(x[0,:,0])):\n",
    "        fd[input_sequence[i]] = x[:,i,:]\n",
    "    for i in range(len(y[0,:,0])):\n",
    "        fd[target_sequence[i]] = y[:,i,:]\n",
    "    \n",
    "    l,_ = sess.run([loss,opt],feed_dict = fd)\n",
    "    losses.append(l)\n",
    "    if s % 100 == 0:\n",
    "        translated = sess.run([pred],feed_dict=fd)[0]\n",
    "        #onlt check the first word\n",
    "        fw_o = np.ndarray((max_out,alphabet_size))\n",
    "        for i in range(max_out):\n",
    "            fw_o[i]=translated[i*batch_size]\n",
    "    \n",
    "        print 'loss: ',l\n",
    "        print 'Input:          ',unvectorizeWord(x[0])[::-1]\n",
    "        print 'Output:         ',unvectorizeWord(fw_o)\n",
    "        print 'Correct Output: ',unvectorizeWord(y[0])\n",
    "        print ' '\n",
    "save_path = saver.save(sess,os.getcwd()+'/model3.ckpt')"
   ]
  },
  {
   "cell_type": "code",
   "execution_count": 31,
   "metadata": {
    "collapsed": false,
    "deletable": true,
    "editable": true
   },
   "outputs": [
    {
     "data": {
      "text/plain": [
       "[<matplotlib.lines.Line2D at 0x7f277c681ad0>]"
      ]
     },
     "execution_count": 31,
     "metadata": {},
     "output_type": "execute_result"
    },
    {
     "data": {
      "image/png": "[encoded data removed]",
      "text/plain": [
       "<matplotlib.figure.Figure at 0x7f28748045d0>"
      ]
     },
     "metadata": {},
     "output_type": "display_data"
    }
   ],
   "source": [
    "plt.plot(losses)"
   ]
  },
  {
   "cell_type": "code",
   "execution_count": 32,
   "metadata": {
    "collapsed": false,
    "deletable": true,
    "editable": true
   },
   "outputs": [],
   "source": [
    "with g.as_default():\n",
    "    val_sequence = list()\n",
    "    for i in range(max_in+1):\n",
    "        val_sequence.append(tf.placeholder(tf.float32,shape=(1,alphabet_size)))\n",
    "    logits_val = model(val_sequence,train=False)\n",
    "    pred_val = tf.nn.softmax(logits_val)"
   ]
  },
  {
   "cell_type": "code",
   "execution_count": 33,
   "metadata": {
    "collapsed": false,
    "deletable": true,
    "editable": true
   },
   "outputs": [
    {
     "name": "stdout",
     "output_type": "stream",
     "text": [
      "Input:           abaya\n",
      "Output:          abayaway~~~~~\n",
      " \n",
      "Input:           bardolatry\n",
      "Output:          ardolatrybay~\n",
      " \n",
      "Input:           blatherski\n",
      "Output:          atherskiblay~\n",
      " \n",
      "Input:           couthy\n",
      "Output:          outhycay~~~~~\n",
      " \n",
      "Input:           deterge\n",
      "Output:          etergeday~~~~\n",
      " \n",
      "Input:           eyewater\n",
      "Output:          eyewaterway~~\n",
      " \n",
      "Input:           saudade\n",
      "Output:          audadesay~~~~\n",
      " \n",
      "Input:           tokoloshe\n",
      "Output:          okoloshetay~~\n",
      " \n",
      "Input:           wittol\n",
      "Output:          ittolway~~~~~\n",
      " \n",
      "Input:           vomitous\n",
      "Output:          omitousvay~~~\n",
      " \n",
      "Input:           waitron\n",
      "Output:          aitronway~~~~\n",
      " \n"
     ]
    }
   ],
   "source": [
    "#validation\n",
    "for s in range(len(uncommon)):\n",
    "    inputs = vectorizeWord(pad_in(uncommon[s][::-1]))\n",
    "    \n",
    "    fd = {}\n",
    "    for i in range(len(inputs)):\n",
    "        fd[val_sequence[i]] = np.expand_dims(inputs[i],0)\n",
    "    \n",
    "    translated = sess.run([pred_val],feed_dict=fd)[0]\n",
    "    print 'Input:          ',uncommon[s]\n",
    "    print 'Output:         ',unvectorizeWord(translated)\n",
    "    print ' '"
   ]
  },
  {
   "cell_type": "markdown",
   "metadata": {
    "collapsed": true,
    "deletable": true,
    "editable": true
   },
   "source": [
    "# Get Variables"
   ]
  },
  {
   "cell_type": "code",
   "execution_count": 34,
   "metadata": {
    "collapsed": true
   },
   "outputs": [],
   "source": [
    "model_params = sess.run([e1_var,e2_var,e3_var,d1_var,d2_var,d3_var,W_softmax,b_softmax])"
   ]
  },
  {
   "cell_type": "code",
   "execution_count": 35,
   "metadata": {
    "collapsed": false
   },
   "outputs": [],
   "source": [
    "pickle.dump(model_params,open('params.p','w'))"
   ]
  },
  {
   "cell_type": "code",
   "execution_count": null,
   "metadata": {
    "collapsed": true
   },
   "outputs": [],
   "source": []
  }
 ],
 "metadata": {
  "anaconda-cloud": {},
  "kernelspec": {
   "display_name": "Python [conda env:tensorflow]",
   "language": "python",
   "name": "conda-env-tensorflow-py"
  },
  "language_info": {
   "codemirror_mode": {
    "name": "ipython",
    "version": 2
   },
   "file_extension": ".py",
   "mimetype": "text/x-python",
   "name": "python",
   "nbconvert_exporter": "python",
   "pygments_lexer": "ipython2",
   "version": "2.7.12"
  }
 },
 "nbformat": 4,
 "nbformat_minor": 2
}
