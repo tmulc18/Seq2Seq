{
 "cells": [
  {
   "cell_type": "markdown",
   "metadata": {
    "deletable": true,
    "editable": true
   },
   "source": [
    "# Goal\n",
    "\n",
    "We will attemp to convert English into Pig Latin.  We will use the Text8 data as a corpus of text.  The modeling will be done using a sequence of characters and the input sequence will be the sequence of characters for one word.  We will use the method described [here](https://papers.nips.cc/paper/5346-sequence-to-sequence-learning-with-neural-networks.pdf) "
   ]
  },
  {
   "cell_type": "markdown",
   "metadata": {
    "deletable": true,
    "editable": true
   },
   "source": [
    "# Import functions"
   ]
  },
  {
   "cell_type": "code",
   "execution_count": 1,
   "metadata": {
    "collapsed": false,
    "deletable": true,
    "editable": true
   },
   "outputs": [],
   "source": [
    "import pickle\n",
    "import tensorflow as tf\n",
    "import numpy as np\n",
    "import string\n",
    "from tqdm import tqdm\n",
    "import os\n",
    "from matplotlib import pyplot as plt\n",
    "%matplotlib inline"
   ]
  },
  {
   "cell_type": "markdown",
   "metadata": {
    "deletable": true,
    "editable": true
   },
   "source": [
    "# Import data"
   ]
  },
  {
   "cell_type": "code",
   "execution_count": 2,
   "metadata": {
    "collapsed": false,
    "deletable": true,
    "editable": true
   },
   "outputs": [],
   "source": [
    "words = pickle.load(open('t8_words.p'))\n",
    "words_pl = pickle.load(open('t8_words_pl.p'))"
   ]
  },
  {
   "cell_type": "code",
   "execution_count": 3,
   "metadata": {
    "collapsed": false,
    "deletable": true,
    "editable": true
   },
   "outputs": [
    {
     "name": "stdout",
     "output_type": "stream",
     "text": [
      "[('biennials', 'iennialsbay'), ('tripolitan', 'ipolitantray'), ('mdbg', 'mdbgay'), ('roadgear', 'oadgearray'), ('vang', 'angvay'), ('nunnery', 'unnerynay'), ('sowell', 'owellsay'), ('brownpride', 'ownpridebray'), ('vani', 'anivay'), ('woods', 'oodsway')]\n"
     ]
    }
   ],
   "source": [
    "print zip(words[:10],words_pl[:10])"
   ]
  },
  {
   "cell_type": "markdown",
   "metadata": {
    "deletable": true,
    "editable": true
   },
   "source": [
    "# Create validation set\n",
    "\n",
    "Taken from [here](https://en.oxforddictionaries.com/explore/weird-and-wonderful-words)"
   ]
  },
  {
   "cell_type": "code",
   "execution_count": 4,
   "metadata": {
    "collapsed": false,
    "deletable": true,
    "editable": true
   },
   "outputs": [],
   "source": [
    "def lessT(x):\n",
    "    if x <= 10:\n",
    "        return True\n",
    "    return False"
   ]
  },
  {
   "cell_type": "code",
   "execution_count": 5,
   "metadata": {
    "collapsed": false,
    "deletable": true,
    "editable": true
   },
   "outputs": [],
   "source": [
    "uncommon = ['abaya','bardolatry','blatherski','couthy','deterge','eyewater','saudade',\n",
    "            'tokoloshe','wittol','vomitous','waitron']\n",
    "assert (not any([u in words for u in uncommon]))\n",
    "assert all(map(lessT,map(len,uncommon)))"
   ]
  },
  {
   "cell_type": "markdown",
   "metadata": {
    "deletable": true,
    "editable": true
   },
   "source": [
    "# Padding inputs and outputs\n",
    "\n",
    "There is no good way to handle sequences of multiple lengths (see [here](https://www.tensorflow.org/tutorials/seq2seq)).  So we pad inputs and outputs to fixed lengths."
   ]
  },
  {
   "cell_type": "code",
   "execution_count": 6,
   "metadata": {
    "collapsed": false,
    "deletable": true,
    "editable": true
   },
   "outputs": [
    {
     "name": "stdout",
     "output_type": "stream",
     "text": [
      "10 tripolitan\n"
     ]
    }
   ],
   "source": [
    "# find maximum length of input\n",
    "max_in = 0\n",
    "ind = 0\n",
    "for i,w in enumerate(words):\n",
    "    if len(w)> max_in:\n",
    "        max_in = len(w)\n",
    "        ind = i\n",
    "print max_in, words[ind]"
   ]
  },
  {
   "cell_type": "code",
   "execution_count": 7,
   "metadata": {
    "collapsed": false,
    "deletable": true,
    "editable": true
   },
   "outputs": [
    {
     "name": "stdout",
     "output_type": "stream",
     "text": [
      "13 altagraciaway\n"
     ]
    }
   ],
   "source": [
    "# find maximum length of input\n",
    "max_out = 0\n",
    "ind = 0\n",
    "for i,w in enumerate(words_pl):\n",
    "    if len(w)> max_out:\n",
    "        max_out = len(w)\n",
    "        ind = i\n",
    "print max_out, words_pl[ind]"
   ]
  },
  {
   "cell_type": "code",
   "execution_count": 8,
   "metadata": {
    "collapsed": true,
    "deletable": true,
    "editable": true
   },
   "outputs": [],
   "source": [
    "pad_char = '~'\n",
    "def pad_in(w):\n",
    "    while(len(w)<max_in):\n",
    "        w = pad_char+w\n",
    "    return w\n",
    "\n",
    "def pad_out(w):\n",
    "    while(len(w)<max_out):\n",
    "        w = w+pad_char\n",
    "    return w\n",
    "\n",
    "def un_pad(w):\n",
    "    return w.replace(pad_char,'')"
   ]
  },
  {
   "cell_type": "code",
   "execution_count": 9,
   "metadata": {
    "collapsed": false,
    "deletable": true,
    "editable": true
   },
   "outputs": [
    {
     "name": "stdout",
     "output_type": "stream",
     "text": [
      "~biennials\n",
      "iennialsbay~~\n"
     ]
    }
   ],
   "source": [
    "print pad_in(words[0])\n",
    "print pad_out(words_pl[0])"
   ]
  },
  {
   "cell_type": "markdown",
   "metadata": {
    "deletable": true,
    "editable": true
   },
   "source": [
    "# Vectorize data"
   ]
  },
  {
   "cell_type": "code",
   "execution_count": 10,
   "metadata": {
    "collapsed": false,
    "deletable": true,
    "editable": true
   },
   "outputs": [],
   "source": [
    "alphabet = string.ascii_lowercase+'~'\n",
    "alphabet_size = len(alphabet)+1 #need to add one for the end of sequence key\n",
    "\n",
    "#returns a unique integer for the letter\n",
    "def char2id(x):\n",
    "    return alphabet.find(x)\n",
    "\n",
    "#return a one hot encoded vector of the letter\n",
    "def one_hot(l):\n",
    "    r = np.zeros(alphabet_size)\n",
    "    r[char2id(l)] = 1.0\n",
    "    return r\n",
    "\n",
    "#return the letter of the one-hot encoded letter\n",
    "def un_one_hot(v):\n",
    "    ind = np.argmax(v)\n",
    "#     if ind >= alphabet_size-2:\n",
    "    if ind == alphabet_size-1:\n",
    "        return ''\n",
    "    else:\n",
    "        return alphabet[ind]\n",
    "\n",
    "#returns the the End of Sequence vector\n",
    "def getEOSvec():\n",
    "    r = np.zeros(alphabet_size)\n",
    "    r[alphabet_size-1] = 1.0\n",
    "    return r\n",
    "\n",
    "#returns the word a matrix of one hot encoded vectors\n",
    "def vectorizeWord(w):\n",
    "    r = np.ndarray((len(w)+1,alphabet_size))\n",
    "    for i,l in enumerate(w):\n",
    "        r[i] = one_hot(l)\n",
    "    r[len(w)] = getEOSvec()\n",
    "    return r\n",
    "\n",
    "#returns the string of the vectorized word\n",
    "def unvectorizeWord(M):\n",
    "    r = ''\n",
    "    for i in xrange(M.shape[0]):\n",
    "        r += un_one_hot(M[i])\n",
    "    return r"
   ]
  },
  {
   "cell_type": "markdown",
   "metadata": {
    "deletable": true,
    "editable": true
   },
   "source": [
    "# Batch Generator"
   ]
  },
  {
   "cell_type": "code",
   "execution_count": 11,
   "metadata": {
    "collapsed": true,
    "deletable": true,
    "editable": true
   },
   "outputs": [],
   "source": [
    "batch_size=30"
   ]
  },
  {
   "cell_type": "code",
   "execution_count": 12,
   "metadata": {
    "collapsed": true,
    "deletable": true,
    "editable": true
   },
   "outputs": [],
   "source": [
    "class Batch(object):\n",
    "    def __init__(self,words,words_pl,batch_size):\n",
    "        self.words = words\n",
    "        self.words_pl = words_pl\n",
    "        self.batch_size = batch_size\n",
    "        self.size = len(words)\n",
    "        self.segment_size = self.size/batch_size\n",
    "        self.cursors = [b*self.segment_size for b in range(batch_size)]\n",
    "        #self.batch = np.ndarray(self.batch_size)\n",
    "    def nextBatch(self,reverse = True):\n",
    "        if reverse:\n",
    "            x = np.array([vectorizeWord(pad_in(words[c][::-1])) for c in self.cursors])\n",
    "        else:\n",
    "            x = np.array([vectorizeWord(pad_in(words[c])) for c in self.cursors])\n",
    "        y = np.array([vectorizeWord(pad_out(words_pl[c])) for c in self.cursors])\n",
    "        self.cursors = [(c+1)%self.size for c in self.cursors]\n",
    "        return x,y"
   ]
  },
  {
   "cell_type": "markdown",
   "metadata": {
    "deletable": true,
    "editable": true
   },
   "source": [
    "# Deep Traditional\n",
    "\n",
    "https://arxiv.org/pdf/1409.2329.pdf\n",
    "\n",
    "<img src=\"Notes/OtherLSTM.png\">"
   ]
  },
  {
   "cell_type": "code",
   "execution_count": 13,
   "metadata": {
    "collapsed": false,
    "deletable": true,
    "editable": true
   },
   "outputs": [
    {
     "name": "stdout",
     "output_type": "stream",
     "text": [
      "WARNING:tensorflow:From <ipython-input-13-a71405ccf90c>:118: initialize_all_variables (from tensorflow.python.ops.variables) is deprecated and will be removed after 2017-03-02.\n",
      "Instructions for updating:\n",
      "Use `tf.global_variables_initializer` instead.\n"
     ]
    }
   ],
   "source": [
    "#NOTE: the +1 in max_in+1 and max_out+1 happens because the end token is needed\n",
    "\n",
    "num_nodes = 500\n",
    "g = tf.Graph()\n",
    "with g.as_default():\n",
    "    #input sequence\n",
    "    input_sequence = list()\n",
    "    for i in range(max_in+1):\n",
    "        input_sequence.append(tf.placeholder(tf.float32,shape=(batch_size,alphabet_size)))\n",
    "    \n",
    "    #target sequence\n",
    "    target_sequence = list()\n",
    "    for i in range(max_out+1):\n",
    "        target_sequence.append(tf.placeholder(tf.float32,shape=(batch_size,alphabet_size)))\n",
    "        \n",
    "    \n",
    "    #the previous state that gets fed into the cell\n",
    "    state_0 = tf.constant(0.0,dtype=tf.float32,shape=[batch_size,num_nodes])\n",
    "    hidden_0 = tf.constant(0.0,dtype=tf.float32,shape=[batch_size,num_nodes])\n",
    "    #for validation inference\n",
    "    state_0v = tf.constant(0.0,dtype=tf.float32,shape=[1,num_nodes])\n",
    "    hidden_0v = tf.constant(0.0,dtype=tf.float32,shape=[1,num_nodes])\n",
    "    \n",
    "    def create_LSTM_Variables(num_nodes,Name,is_input=False):\n",
    "        if is_input:\n",
    "            fx = tf.Variable(tf.truncated_normal([num_nodes+alphabet_size, num_nodes], -0.08, 0.08),name=Name+'fx')\n",
    "            ix = tf.Variable(tf.truncated_normal([num_nodes+alphabet_size, num_nodes], -0.08, 0.08),name=Name+'ix')\n",
    "            cx = tf.Variable(tf.truncated_normal([num_nodes+alphabet_size, num_nodes], -0.08, 0.08),name=Name+'cx')\n",
    "            ox = tf.Variable(tf.truncated_normal([num_nodes+alphabet_size, num_nodes], -0.08, 0.08),name=Name+'ox')\n",
    "        else:\n",
    "            fx = tf.Variable(tf.truncated_normal([2*num_nodes, num_nodes], -0.08, 0.08),name=Name+'fx')\n",
    "            ix = tf.Variable(tf.truncated_normal([2*num_nodes, num_nodes], -0.08, 0.08),name=Name+'ix')\n",
    "            cx = tf.Variable(tf.truncated_normal([2*num_nodes, num_nodes], -0.08, 0.08),name=Name+'cx')\n",
    "            ox = tf.Variable(tf.truncated_normal([2*num_nodes, num_nodes], -0.08, 0.08),name=Name+'ox')\n",
    "        fb = tf.Variable(tf.zeros([1, num_nodes]),name=Name+'fb')\n",
    "        ib = tf.Variable(tf.zeros([1, num_nodes]),name=Name+'ib')\n",
    "        cb = tf.Variable(tf.zeros([1, num_nodes]),name=Name+'cb')\n",
    "        ob = tf.Variable(tf.zeros([1, num_nodes]),name=Name+'ob')\n",
    "        return[[fx,ix,cx,ox],[fb,ib,cb,ob]]\n",
    "    \n",
    "    e1_var = create_LSTM_Variables(num_nodes,'e1',is_input = True)\n",
    "    e2_var = create_LSTM_Variables(num_nodes,'e2')\n",
    "    e3_var = create_LSTM_Variables(num_nodes,'e3')\n",
    "    \n",
    "    d1_var = create_LSTM_Variables(num_nodes,'d1',is_input = True)\n",
    "    d2_var = create_LSTM_Variables(num_nodes,'d2')\n",
    "    d3_var = create_LSTM_Variables(num_nodes,'d3')\n",
    "    \n",
    "    #softmax\n",
    "    W_softmax = tf.Variable(tf.truncated_normal([num_nodes,alphabet_size],-0.08,0.08))\n",
    "    b_softmax = tf.Variable(tf.zeros([1,alphabet_size]))\n",
    "    \n",
    "    #model\n",
    "    #hl is the previous hiddent layer from current time step but previous  layer\n",
    "    #ht is the previous hidden layer from the current layer but previous timestep\n",
    "    #state is the previous state from the same layer but previous timestep\n",
    "    def LSTM(hl,ht,state,varrs):\n",
    "        #get variables out\n",
    "        x,b=varrs[0],varrs[1]\n",
    "        fx,ix,cx,ox = x[0],x[1],x[2],x[3]\n",
    "        fb,ib,cb,ob = b[0],b[1],b[1],b[3]\n",
    "        \n",
    "        #computations\n",
    "        input_chan = tf.concat([hl,ht],1)\n",
    "        forget_gate = tf.sigmoid(tf.matmul(input_chan,fx)+fb)\n",
    "        insert_gate = tf.sigmoid(tf.matmul(input_chan,ix)+ib)\n",
    "        output_gate = tf.sigmoid(tf.matmul(input_chan,ox)+ob)\n",
    "        candidate = tf.tanh(tf.matmul(input_chan,cx)+cb)\n",
    "        state = forget_gate * state + insert_gate * candidate\n",
    "        h = output_gate * tf.tanh(state)\n",
    "        return h, state\n",
    "    \n",
    "    \n",
    "    def model(input_sequence,train = True):\n",
    "        #Encode sequence\n",
    "        for i in range(max_in+1):\n",
    "            if i == 0:\n",
    "                if train:\n",
    "                    state1,h1 = state_0,hidden_0\n",
    "                    state2,h2 = state_0,hidden_0\n",
    "                    state3,h3 = state_0,hidden_0\n",
    "                else:\n",
    "                    state1,h1 = state_0v,hidden_0v\n",
    "                    state2,h2 = state_0v,hidden_0v\n",
    "                    state3,h3 = state_0v,hidden_0v\n",
    "\n",
    "            h1,state1 = LSTM(h1,input_sequence[i],state1,e1_var) #layer 1\n",
    "            h2,state2 = LSTM(h2,h1,state2,e2_var) #layer 2\n",
    "            h3,state3 = LSTM(h3,h2,state3,e3_var) #layer 3\n",
    "\n",
    "        #Decode sequence\n",
    "        logits_list = list()\n",
    "        for i in range(max_out+1):\n",
    "            if i == 0:\n",
    "                h1,state1 = LSTM(h1,input_sequence[-1],state1,d1_var) #layer 1\n",
    "\n",
    "            else:\n",
    "                h1,state1 = LSTM(h1,tf.nn.softmax(logit),state1,d1_var) #layer 1\n",
    "            h2,state2 = LSTM(h2,h1,state2,d2_var) #layer 2\n",
    "            h3,state3 = LSTM(h3,h2,state3,d3_var) #layer 3\n",
    "\n",
    "            logit =tf.matmul(h3,W_softmax)+b_softmax\n",
    "            logits_list.append(logit)\n",
    "\n",
    "        logits = tf.concat(logits_list,0)\n",
    "        return logits\n",
    "    \n",
    "    #train\n",
    "    logits_train = model(input_sequence)\n",
    "    loss = tf.reduce_mean(tf.nn.softmax_cross_entropy_with_logits(logits=logits_train,labels=tf.concat(target_sequence,0)))\n",
    "    opt = tf.train.AdamOptimizer(learning_rate=1e-3).minimize(loss)\n",
    "    \n",
    "    #inference train\n",
    "    pred = tf.nn.softmax(logits_train)\n",
    "    \n",
    "    saver = tf.train.Saver()\n",
    "        \n",
    "    init = tf.initialize_all_variables()"
   ]
  },
  {
   "cell_type": "code",
   "execution_count": 14,
   "metadata": {
    "collapsed": true,
    "deletable": true,
    "editable": true
   },
   "outputs": [],
   "source": [
    "sess = tf.Session(graph = g)\n",
    "sess.run(init)\n",
    "b = Batch(words,words_pl,batch_size)\n",
    "losses = []"
   ]
  },
  {
   "cell_type": "code",
   "execution_count": 15,
   "metadata": {
    "collapsed": true
   },
   "outputs": [],
   "source": [
    "saver.restore(sess,os.getcwd()+'/model3.ckpt')"
   ]
  },
  {
   "cell_type": "code",
   "execution_count": 34,
   "metadata": {
    "collapsed": false,
    "deletable": true,
    "editable": true
   },
   "outputs": [
    {
     "name": "stderr",
     "output_type": "stream",
     "text": [
      "  0%|          | 2/10001 [00:00<40:59,  4.06it/s]"
     ]
    },
    {
     "name": "stdout",
     "output_type": "stream",
     "text": [
      "loss:  0.0397508\n",
      "Input:           hitman~~~~\n",
      "Output:          itmanhay~~~~~\n",
      "Correct Output:  itmanhay~~~~~\n",
      " \n"
     ]
    },
    {
     "name": "stderr",
     "output_type": "stream",
     "text": [
      "  1%|          | 102/10001 [00:14<25:10,  6.55it/s]"
     ]
    },
    {
     "name": "stdout",
     "output_type": "stream",
     "text": [
      "loss:  0.0890046\n",
      "Input:           acrophoca~\n",
      "Output:          acrophocaway~\n",
      "Correct Output:  acrophocaway~\n",
      " \n"
     ]
    },
    {
     "name": "stderr",
     "output_type": "stream",
     "text": [
      "  2%|▏         | 202/10001 [00:28<24:47,  6.59it/s]"
     ]
    },
    {
     "name": "stdout",
     "output_type": "stream",
     "text": [
      "loss:  0.0467599\n",
      "Input:           gradualist\n",
      "Output:          adualissgray~\n",
      "Correct Output:  adualistgray~\n",
      " \n"
     ]
    },
    {
     "name": "stderr",
     "output_type": "stream",
     "text": [
      "  3%|▎         | 302/10001 [00:42<24:41,  6.55it/s]"
     ]
    },
    {
     "name": "stdout",
     "output_type": "stream",
     "text": [
      "loss:  0.0531499\n",
      "Input:           shoreditch\n",
      "Output:          oreditchshay~\n",
      "Correct Output:  oreditchshay~\n",
      " \n"
     ]
    },
    {
     "name": "stderr",
     "output_type": "stream",
     "text": [
      "  4%|▍         | 402/10001 [00:56<23:56,  6.68it/s]"
     ]
    },
    {
     "name": "stdout",
     "output_type": "stream",
     "text": [
      "loss:  0.0190368\n",
      "Input:           falmes~~~~\n",
      "Output:          almesfay~~~~~\n",
      "Correct Output:  almesfay~~~~~\n",
      " \n"
     ]
    },
    {
     "name": "stderr",
     "output_type": "stream",
     "text": [
      "  5%|▌         | 502/10001 [01:10<24:03,  6.58it/s]"
     ]
    },
    {
     "name": "stdout",
     "output_type": "stream",
     "text": [
      "loss:  0.0200205\n",
      "Input:           fatman~~~~\n",
      "Output:          atmanfay~~~~~\n",
      "Correct Output:  atmanfay~~~~~\n",
      " \n"
     ]
    },
    {
     "name": "stderr",
     "output_type": "stream",
     "text": [
      "  6%|▌         | 602/10001 [01:23<23:27,  6.68it/s]"
     ]
    },
    {
     "name": "stdout",
     "output_type": "stream",
     "text": [
      "loss:  0.0417676\n",
      "Input:           harvia~~~~\n",
      "Output:          arviahay~~~~~\n",
      "Correct Output:  arviahay~~~~~\n",
      " \n"
     ]
    },
    {
     "name": "stderr",
     "output_type": "stream",
     "text": [
      "  7%|▋         | 702/10001 [01:37<23:10,  6.69it/s]"
     ]
    },
    {
     "name": "stdout",
     "output_type": "stream",
     "text": [
      "loss:  0.047642\n",
      "Input:           satelite~~\n",
      "Output:          atelitesay~~~\n",
      "Correct Output:  atelitesay~~~\n",
      " \n"
     ]
    },
    {
     "name": "stderr",
     "output_type": "stream",
     "text": [
      "  8%|▊         | 802/10001 [01:51<23:09,  6.62it/s]"
     ]
    },
    {
     "name": "stdout",
     "output_type": "stream",
     "text": [
      "loss:  0.0477612\n",
      "Input:           acastus~~~\n",
      "Output:          acastusway~~~\n",
      "Correct Output:  acastusway~~~\n",
      " \n"
     ]
    },
    {
     "name": "stderr",
     "output_type": "stream",
     "text": [
      "  9%|▉         | 902/10001 [02:05<23:04,  6.57it/s]"
     ]
    },
    {
     "name": "stdout",
     "output_type": "stream",
     "text": [
      "loss:  0.143832\n",
      "Input:           handelian~\n",
      "Output:          andelianhay~~\n",
      "Correct Output:  andelianhay~~\n",
      " \n"
     ]
    },
    {
     "name": "stderr",
     "output_type": "stream",
     "text": [
      " 10%|█         | 1002/10001 [02:19<22:33,  6.65it/s]"
     ]
    },
    {
     "name": "stdout",
     "output_type": "stream",
     "text": [
      "loss:  0.0366347\n",
      "Input:           upuaut~~~~\n",
      "Output:          upuautway~~~~\n",
      "Correct Output:  upuautway~~~~\n",
      " \n"
     ]
    },
    {
     "name": "stderr",
     "output_type": "stream",
     "text": [
      " 11%|█         | 1102/10001 [02:33<22:16,  6.66it/s]"
     ]
    },
    {
     "name": "stdout",
     "output_type": "stream",
     "text": [
      "loss:  0.0250275\n",
      "Input:           nhengatu~~\n",
      "Output:          engatunhay~~~\n",
      "Correct Output:  engatunhay~~~\n",
      " \n"
     ]
    },
    {
     "name": "stderr",
     "output_type": "stream",
     "text": [
      " 12%|█▏        | 1202/10001 [02:47<22:00,  6.66it/s]"
     ]
    },
    {
     "name": "stdout",
     "output_type": "stream",
     "text": [
      "loss:  0.00846265\n",
      "Input:           argens~~~~\n",
      "Output:          argensway~~~~\n",
      "Correct Output:  argensway~~~~\n",
      " \n"
     ]
    },
    {
     "name": "stderr",
     "output_type": "stream",
     "text": [
      " 13%|█▎        | 1302/10001 [03:00<21:30,  6.74it/s]"
     ]
    },
    {
     "name": "stdout",
     "output_type": "stream",
     "text": [
      "loss:  0.00727819\n",
      "Input:           pitseolak~\n",
      "Output:          itseolakpay~~\n",
      "Correct Output:  itseolakpay~~\n",
      " \n"
     ]
    },
    {
     "name": "stderr",
     "output_type": "stream",
     "text": [
      " 14%|█▍        | 1402/10001 [03:14<21:24,  6.69it/s]"
     ]
    },
    {
     "name": "stdout",
     "output_type": "stream",
     "text": [
      "loss:  0.0158179\n",
      "Input:           spamming~~\n",
      "Output:          ammingspay~~~\n",
      "Correct Output:  ammingspay~~~\n",
      " \n"
     ]
    },
    {
     "name": "stderr",
     "output_type": "stream",
     "text": [
      " 15%|█▌        | 1502/10001 [03:28<21:11,  6.68it/s]"
     ]
    },
    {
     "name": "stdout",
     "output_type": "stream",
     "text": [
      "loss:  0.0537208\n",
      "Input:           concurring\n",
      "Output:          oncurringcay~\n",
      "Correct Output:  oncurringcay~\n",
      " \n"
     ]
    },
    {
     "name": "stderr",
     "output_type": "stream",
     "text": [
      " 16%|█▌        | 1602/10001 [03:42<21:07,  6.63it/s]"
     ]
    },
    {
     "name": "stdout",
     "output_type": "stream",
     "text": [
      "loss:  0.0162185\n",
      "Input:           kinnor~~~~\n",
      "Output:          innorkay~~~~~\n",
      "Correct Output:  innorkay~~~~~\n",
      " \n"
     ]
    },
    {
     "name": "stderr",
     "output_type": "stream",
     "text": [
      " 17%|█▋        | 1702/10001 [03:56<20:37,  6.71it/s]"
     ]
    },
    {
     "name": "stdout",
     "output_type": "stream",
     "text": [
      "loss:  0.0155271\n",
      "Input:           chabahar~~\n",
      "Output:          abaharchay~~~\n",
      "Correct Output:  abaharchay~~~\n",
      " \n"
     ]
    },
    {
     "name": "stderr",
     "output_type": "stream",
     "text": [
      " 18%|█▊        | 1802/10001 [04:10<20:25,  6.69it/s]"
     ]
    },
    {
     "name": "stdout",
     "output_type": "stream",
     "text": [
      "loss:  0.0110759\n",
      "Input:           foundries~\n",
      "Output:          oundriesfay~~\n",
      "Correct Output:  oundriesfay~~\n",
      " \n"
     ]
    },
    {
     "name": "stderr",
     "output_type": "stream",
     "text": [
      " 19%|█▉        | 1902/10001 [04:24<20:16,  6.66it/s]"
     ]
    },
    {
     "name": "stdout",
     "output_type": "stream",
     "text": [
      "loss:  0.0468212\n",
      "Input:           hardened~~\n",
      "Output:          ardenedhay~~~\n",
      "Correct Output:  ardenedhay~~~\n",
      " \n"
     ]
    },
    {
     "name": "stderr",
     "output_type": "stream",
     "text": [
      " 20%|██        | 2002/10001 [04:37<19:51,  6.71it/s]"
     ]
    },
    {
     "name": "stdout",
     "output_type": "stream",
     "text": [
      "loss:  0.013148\n",
      "Input:           sudayev~~~\n",
      "Output:          udayevsay~~~~\n",
      "Correct Output:  udayevsay~~~~\n",
      " \n"
     ]
    },
    {
     "name": "stderr",
     "output_type": "stream",
     "text": [
      " 21%|██        | 2102/10001 [04:51<19:44,  6.67it/s]"
     ]
    },
    {
     "name": "stdout",
     "output_type": "stream",
     "text": [
      "loss:  0.0230214\n",
      "Input:           bangala~~~\n",
      "Output:          angalabay~~~~\n",
      "Correct Output:  angalabay~~~~\n",
      " \n"
     ]
    },
    {
     "name": "stderr",
     "output_type": "stream",
     "text": [
      " 22%|██▏       | 2202/10001 [05:05<19:37,  6.63it/s]"
     ]
    },
    {
     "name": "stdout",
     "output_type": "stream",
     "text": [
      "loss:  0.0694269\n",
      "Input:           sashay~~~~\n",
      "Output:          ashaysay~~~~~\n",
      "Correct Output:  ashaysay~~~~~\n",
      " \n"
     ]
    },
    {
     "name": "stderr",
     "output_type": "stream",
     "text": [
      " 23%|██▎       | 2302/10001 [05:19<19:12,  6.68it/s]"
     ]
    },
    {
     "name": "stdout",
     "output_type": "stream",
     "text": [
      "loss:  0.0168241\n",
      "Input:           browns~~~~\n",
      "Output:          ownsbray~~~~~\n",
      "Correct Output:  ownsbray~~~~~\n",
      " \n"
     ]
    },
    {
     "name": "stderr",
     "output_type": "stream",
     "text": [
      " 24%|██▍       | 2402/10001 [05:33<18:51,  6.71it/s]"
     ]
    },
    {
     "name": "stdout",
     "output_type": "stream",
     "text": [
      "loss:  0.020921\n",
      "Input:           torslanda~\n",
      "Output:          orslandatay~~\n",
      "Correct Output:  orslandatay~~\n",
      " \n"
     ]
    },
    {
     "name": "stderr",
     "output_type": "stream",
     "text": [
      " 25%|██▌       | 2502/10001 [05:47<18:38,  6.71it/s]"
     ]
    },
    {
     "name": "stdout",
     "output_type": "stream",
     "text": [
      "loss:  0.00612141\n",
      "Input:           beilein~~~\n",
      "Output:          eileinbay~~~~\n",
      "Correct Output:  eileinbay~~~~\n",
      " \n"
     ]
    },
    {
     "name": "stderr",
     "output_type": "stream",
     "text": [
      " 26%|██▌       | 2602/10001 [06:01<18:37,  6.62it/s]"
     ]
    },
    {
     "name": "stdout",
     "output_type": "stream",
     "text": [
      "loss:  0.12121\n",
      "Input:           precisely~\n",
      "Output:          eciselypray~~\n",
      "Correct Output:  eciselypray~~\n",
      " \n"
     ]
    },
    {
     "name": "stderr",
     "output_type": "stream",
     "text": [
      " 27%|██▋       | 2702/10001 [06:15<18:11,  6.69it/s]"
     ]
    },
    {
     "name": "stdout",
     "output_type": "stream",
     "text": [
      "loss:  0.0294976\n",
      "Input:           baset~~~~~\n",
      "Output:          asetbay~~~~~~\n",
      "Correct Output:  asetbay~~~~~~\n",
      " \n"
     ]
    },
    {
     "name": "stderr",
     "output_type": "stream",
     "text": [
      " 28%|██▊       | 2802/10001 [06:28<18:02,  6.65it/s]"
     ]
    },
    {
     "name": "stdout",
     "output_type": "stream",
     "text": [
      "loss:  0.0154911\n",
      "Input:           sara~~~~~~\n",
      "Output:          arasay~~~~~~~\n",
      "Correct Output:  arasay~~~~~~~\n",
      " \n"
     ]
    },
    {
     "name": "stderr",
     "output_type": "stream",
     "text": [
      " 29%|██▉       | 2902/10001 [06:42<17:42,  6.68it/s]"
     ]
    },
    {
     "name": "stdout",
     "output_type": "stream",
     "text": [
      "loss:  0.0721428\n",
      "Input:           alberich~~\n",
      "Output:          alberichway~~\n",
      "Correct Output:  alberichway~~\n",
      " \n"
     ]
    },
    {
     "name": "stderr",
     "output_type": "stream",
     "text": [
      " 30%|███       | 3002/10001 [06:56<17:25,  6.70it/s]"
     ]
    },
    {
     "name": "stdout",
     "output_type": "stream",
     "text": [
      "loss:  0.0244757\n",
      "Input:           washington\n",
      "Output:          ashingtonway~\n",
      "Correct Output:  ashingtonway~\n",
      " \n"
     ]
    },
    {
     "name": "stderr",
     "output_type": "stream",
     "text": [
      " 31%|███       | 3102/10001 [07:10<17:13,  6.68it/s]"
     ]
    },
    {
     "name": "stdout",
     "output_type": "stream",
     "text": [
      "loss:  0.013625\n",
      "Input:           ainge~~~~~\n",
      "Output:          aingeway~~~~~\n",
      "Correct Output:  aingeway~~~~~\n",
      " \n"
     ]
    },
    {
     "name": "stderr",
     "output_type": "stream",
     "text": [
      " 32%|███▏      | 3202/10001 [07:24<16:55,  6.70it/s]"
     ]
    },
    {
     "name": "stdout",
     "output_type": "stream",
     "text": [
      "loss:  0.0238382\n",
      "Input:           shoyu~~~~~\n",
      "Output:          oyushay~~~~~~\n",
      "Correct Output:  oyushay~~~~~~\n",
      " \n"
     ]
    },
    {
     "name": "stderr",
     "output_type": "stream",
     "text": [
      " 33%|███▎      | 3302/10001 [07:38<16:46,  6.66it/s]"
     ]
    },
    {
     "name": "stdout",
     "output_type": "stream",
     "text": [
      "loss:  0.0040582\n",
      "Input:           artifax~~~\n",
      "Output:          artifaxway~~~\n",
      "Correct Output:  artifaxway~~~\n",
      " \n"
     ]
    },
    {
     "name": "stderr",
     "output_type": "stream",
     "text": [
      " 34%|███▍      | 3402/10001 [07:52<16:27,  6.68it/s]"
     ]
    },
    {
     "name": "stdout",
     "output_type": "stream",
     "text": [
      "loss:  0.0130418\n",
      "Input:           praef~~~~~\n",
      "Output:          aefpray~~~~~~\n",
      "Correct Output:  aefpray~~~~~~\n",
      " \n"
     ]
    },
    {
     "name": "stderr",
     "output_type": "stream",
     "text": [
      " 35%|███▌      | 3502/10001 [08:05<16:37,  6.51it/s]"
     ]
    },
    {
     "name": "stdout",
     "output_type": "stream",
     "text": [
      "loss:  0.0210094\n",
      "Input:           silvan~~~~\n",
      "Output:          ilvansay~~~~~\n",
      "Correct Output:  ilvansay~~~~~\n",
      " \n"
     ]
    },
    {
     "name": "stderr",
     "output_type": "stream",
     "text": [
      " 36%|███▌      | 3602/10001 [08:19<15:50,  6.74it/s]"
     ]
    },
    {
     "name": "stdout",
     "output_type": "stream",
     "text": [
      "loss:  0.00807344\n",
      "Input:           campechana\n",
      "Output:          ampechanacay~\n",
      "Correct Output:  ampechanacay~\n",
      " \n"
     ]
    },
    {
     "name": "stderr",
     "output_type": "stream",
     "text": [
      " 37%|███▋      | 3702/10001 [08:33<15:42,  6.68it/s]"
     ]
    },
    {
     "name": "stdout",
     "output_type": "stream",
     "text": [
      "loss:  0.00700189\n",
      "Input:           khoon~~~~~\n",
      "Output:          oonkhay~~~~~~\n",
      "Correct Output:  oonkhay~~~~~~\n",
      " \n"
     ]
    },
    {
     "name": "stderr",
     "output_type": "stream",
     "text": [
      " 38%|███▊      | 3802/10001 [08:47<15:28,  6.68it/s]"
     ]
    },
    {
     "name": "stdout",
     "output_type": "stream",
     "text": [
      "loss:  0.0327652\n",
      "Input:           chenoweth~\n",
      "Output:          enowethchay~~\n",
      "Correct Output:  enowethchay~~\n",
      " \n"
     ]
    },
    {
     "name": "stderr",
     "output_type": "stream",
     "text": [
      " 39%|███▉      | 3902/10001 [09:01<15:14,  6.67it/s]"
     ]
    },
    {
     "name": "stdout",
     "output_type": "stream",
     "text": [
      "loss:  0.0353299\n",
      "Input:           habaki~~~~\n",
      "Output:          abakihay~~~~~\n",
      "Correct Output:  abakihay~~~~~\n",
      " \n"
     ]
    },
    {
     "name": "stderr",
     "output_type": "stream",
     "text": [
      " 40%|████      | 4002/10001 [09:15<14:53,  6.71it/s]"
     ]
    },
    {
     "name": "stdout",
     "output_type": "stream",
     "text": [
      "loss:  0.0107798\n",
      "Input:           ayr~~~~~~~\n",
      "Output:          ayrway~~~~~~~\n",
      "Correct Output:  ayrway~~~~~~~\n",
      " \n"
     ]
    },
    {
     "name": "stderr",
     "output_type": "stream",
     "text": [
      " 41%|████      | 4102/10001 [09:29<14:47,  6.64it/s]"
     ]
    },
    {
     "name": "stdout",
     "output_type": "stream",
     "text": [
      "loss:  0.0452816\n",
      "Input:           gck~~~~~~~\n",
      "Output:          gckay~~~~~~~~\n",
      "Correct Output:  gckay~~~~~~~~\n",
      " \n"
     ]
    },
    {
     "name": "stderr",
     "output_type": "stream",
     "text": [
      " 42%|████▏     | 4202/10001 [09:43<14:32,  6.65it/s]"
     ]
    },
    {
     "name": "stdout",
     "output_type": "stream",
     "text": [
      "loss:  0.00631964\n",
      "Input:           holdereri~\n",
      "Output:          oldererihay~~\n",
      "Correct Output:  oldererihay~~\n",
      " \n"
     ]
    },
    {
     "name": "stderr",
     "output_type": "stream",
     "text": [
      " 43%|████▎     | 4302/10001 [09:56<14:16,  6.65it/s]"
     ]
    },
    {
     "name": "stdout",
     "output_type": "stream",
     "text": [
      "loss:  0.0288325\n",
      "Input:           andreanof~\n",
      "Output:          andreanofway~\n",
      "Correct Output:  andreanofway~\n",
      " \n"
     ]
    },
    {
     "name": "stderr",
     "output_type": "stream",
     "text": [
      " 44%|████▍     | 4402/10001 [10:10<14:08,  6.60it/s]"
     ]
    },
    {
     "name": "stdout",
     "output_type": "stream",
     "text": [
      "loss:  0.01043\n",
      "Input:           amorc~~~~~\n",
      "Output:          amorcway~~~~~\n",
      "Correct Output:  amorcway~~~~~\n",
      " \n"
     ]
    },
    {
     "name": "stderr",
     "output_type": "stream",
     "text": [
      " 45%|████▌     | 4502/10001 [10:24<13:54,  6.59it/s]"
     ]
    },
    {
     "name": "stdout",
     "output_type": "stream",
     "text": [
      "loss:  0.021064\n",
      "Input:           ronique~~~\n",
      "Output:          oniqueray~~~~\n",
      "Correct Output:  oniqueray~~~~\n",
      " \n"
     ]
    },
    {
     "name": "stderr",
     "output_type": "stream",
     "text": [
      " 46%|████▌     | 4602/10001 [10:38<13:20,  6.74it/s]"
     ]
    },
    {
     "name": "stdout",
     "output_type": "stream",
     "text": [
      "loss:  0.00736155\n",
      "Input:           prespa~~~~\n",
      "Output:          espapray~~~~~\n",
      "Correct Output:  espapray~~~~~\n",
      " \n"
     ]
    },
    {
     "name": "stderr",
     "output_type": "stream",
     "text": [
      " 47%|████▋     | 4702/10001 [10:52<13:09,  6.71it/s]"
     ]
    },
    {
     "name": "stdout",
     "output_type": "stream",
     "text": [
      "loss:  0.00578366\n",
      "Input:           gijbels~~~\n",
      "Output:          ijbelsgay~~~~\n",
      "Correct Output:  ijbelsgay~~~~\n",
      " \n"
     ]
    },
    {
     "name": "stderr",
     "output_type": "stream",
     "text": [
      " 48%|████▊     | 4802/10001 [11:06<12:56,  6.69it/s]"
     ]
    },
    {
     "name": "stdout",
     "output_type": "stream",
     "text": [
      "loss:  0.0453917\n",
      "Input:           lambertus~\n",
      "Output:          ambertuslay~~\n",
      "Correct Output:  ambertuslay~~\n",
      " \n"
     ]
    },
    {
     "name": "stderr",
     "output_type": "stream",
     "text": [
      " 49%|████▉     | 4902/10001 [11:20<12:39,  6.71it/s]"
     ]
    },
    {
     "name": "stdout",
     "output_type": "stream",
     "text": [
      "loss:  0.0244095\n",
      "Input:           douses~~~~\n",
      "Output:          ousesday~~~~~\n",
      "Correct Output:  ousesday~~~~~\n",
      " \n"
     ]
    },
    {
     "name": "stderr",
     "output_type": "stream",
     "text": [
      " 50%|█████     | 5002/10001 [11:33<12:30,  6.66it/s]"
     ]
    },
    {
     "name": "stdout",
     "output_type": "stream",
     "text": [
      "loss:  0.00887534\n",
      "Input:           sbc~~~~~~~\n",
      "Output:          sbcay~~~~~~~~\n",
      "Correct Output:  sbcay~~~~~~~~\n",
      " \n"
     ]
    },
    {
     "name": "stderr",
     "output_type": "stream",
     "text": [
      " 51%|█████     | 5102/10001 [11:47<12:09,  6.71it/s]"
     ]
    },
    {
     "name": "stdout",
     "output_type": "stream",
     "text": [
      "loss:  0.0944989\n",
      "Input:           ebury~~~~~\n",
      "Output:          eburyway~~~~~\n",
      "Correct Output:  eburyway~~~~~\n",
      " \n"
     ]
    },
    {
     "name": "stderr",
     "output_type": "stream",
     "text": [
      " 52%|█████▏    | 5202/10001 [12:01<11:57,  6.69it/s]"
     ]
    },
    {
     "name": "stdout",
     "output_type": "stream",
     "text": [
      "loss:  0.00906647\n",
      "Input:           hotdiary~~\n",
      "Output:          otdiaryhay~~~\n",
      "Correct Output:  otdiaryhay~~~\n",
      " \n"
     ]
    },
    {
     "name": "stderr",
     "output_type": "stream",
     "text": [
      " 53%|█████▎    | 5302/10001 [12:15<11:40,  6.71it/s]"
     ]
    },
    {
     "name": "stdout",
     "output_type": "stream",
     "text": [
      "loss:  0.0041696\n",
      "Input:           dahs~~~~~~\n",
      "Output:          ahsday~~~~~~~\n",
      "Correct Output:  ahsday~~~~~~~\n",
      " \n"
     ]
    },
    {
     "name": "stderr",
     "output_type": "stream",
     "text": [
      " 54%|█████▍    | 5402/10001 [12:29<11:32,  6.65it/s]"
     ]
    },
    {
     "name": "stdout",
     "output_type": "stream",
     "text": [
      "loss:  0.0204484\n",
      "Input:           adamanthea\n",
      "Output:          adamantheaway\n",
      "Correct Output:  adamantheaway\n",
      " \n"
     ]
    },
    {
     "name": "stderr",
     "output_type": "stream",
     "text": [
      " 55%|█████▌    | 5502/10001 [12:43<11:12,  6.69it/s]"
     ]
    },
    {
     "name": "stdout",
     "output_type": "stream",
     "text": [
      "loss:  0.00591059\n",
      "Input:           polferries\n",
      "Output:          olferriespay~\n",
      "Correct Output:  olferriespay~\n",
      " \n"
     ]
    },
    {
     "name": "stderr",
     "output_type": "stream",
     "text": [
      " 56%|█████▌    | 5602/10001 [12:57<10:57,  6.69it/s]"
     ]
    },
    {
     "name": "stdout",
     "output_type": "stream",
     "text": [
      "loss:  0.0286744\n",
      "Input:           unomig~~~~\n",
      "Output:          unomigway~~~~\n",
      "Correct Output:  unomigway~~~~\n",
      " \n"
     ]
    },
    {
     "name": "stderr",
     "output_type": "stream",
     "text": [
      " 57%|█████▋    | 5702/10001 [13:11<10:42,  6.69it/s]"
     ]
    },
    {
     "name": "stdout",
     "output_type": "stream",
     "text": [
      "loss:  0.00551149\n",
      "Input:           lame~~~~~~\n",
      "Output:          amelay~~~~~~~\n",
      "Correct Output:  amelay~~~~~~~\n",
      " \n"
     ]
    },
    {
     "name": "stderr",
     "output_type": "stream",
     "text": [
      " 58%|█████▊    | 5802/10001 [13:24<10:26,  6.70it/s]"
     ]
    },
    {
     "name": "stdout",
     "output_type": "stream",
     "text": [
      "loss:  0.009475\n",
      "Input:           amathos~~~\n",
      "Output:          amathosway~~~\n",
      "Correct Output:  amathosway~~~\n",
      " \n"
     ]
    },
    {
     "name": "stderr",
     "output_type": "stream",
     "text": [
      " 59%|█████▉    | 5902/10001 [13:38<10:18,  6.63it/s]"
     ]
    },
    {
     "name": "stdout",
     "output_type": "stream",
     "text": [
      "loss:  0.00236253\n",
      "Input:           yeni~~~~~~\n",
      "Output:          eniyay~~~~~~~\n",
      "Correct Output:  eniyay~~~~~~~\n",
      " \n"
     ]
    },
    {
     "name": "stderr",
     "output_type": "stream",
     "text": [
      " 60%|██████    | 6002/10001 [13:52<09:55,  6.71it/s]"
     ]
    },
    {
     "name": "stdout",
     "output_type": "stream",
     "text": [
      "loss:  0.00747156\n",
      "Input:           xdr~~~~~~~\n",
      "Output:          xdray~~~~~~~~\n",
      "Correct Output:  xdray~~~~~~~~\n",
      " \n"
     ]
    },
    {
     "name": "stderr",
     "output_type": "stream",
     "text": [
      " 61%|██████    | 6102/10001 [14:06<09:41,  6.70it/s]"
     ]
    },
    {
     "name": "stdout",
     "output_type": "stream",
     "text": [
      "loss:  0.00796936\n",
      "Input:           teamtennis\n",
      "Output:          eamtennistay~\n",
      "Correct Output:  eamtennistay~\n",
      " \n"
     ]
    },
    {
     "name": "stderr",
     "output_type": "stream",
     "text": [
      " 62%|██████▏   | 6202/10001 [14:20<09:24,  6.73it/s]"
     ]
    },
    {
     "name": "stdout",
     "output_type": "stream",
     "text": [
      "loss:  0.0191322\n",
      "Input:           kodex~~~~~\n",
      "Output:          odexkay~~~~~~\n",
      "Correct Output:  odexkay~~~~~~\n",
      " \n"
     ]
    },
    {
     "name": "stderr",
     "output_type": "stream",
     "text": [
      " 63%|██████▎   | 6302/10001 [14:34<09:11,  6.70it/s]"
     ]
    },
    {
     "name": "stdout",
     "output_type": "stream",
     "text": [
      "loss:  0.0153578\n",
      "Input:           maaouiya~~\n",
      "Output:          aaouiyamay~~~\n",
      "Correct Output:  aaouiyamay~~~\n",
      " \n"
     ]
    },
    {
     "name": "stderr",
     "output_type": "stream",
     "text": [
      " 64%|██████▍   | 6402/10001 [14:48<09:00,  6.66it/s]"
     ]
    },
    {
     "name": "stdout",
     "output_type": "stream",
     "text": [
      "loss:  0.0191571\n",
      "Input:           philomena~\n",
      "Output:          ilomenaphay~~\n",
      "Correct Output:  ilomenaphay~~\n",
      " \n"
     ]
    },
    {
     "name": "stderr",
     "output_type": "stream",
     "text": [
      " 65%|██████▌   | 6502/10001 [15:01<08:48,  6.62it/s]"
     ]
    },
    {
     "name": "stdout",
     "output_type": "stream",
     "text": [
      "loss:  0.00157448\n",
      "Input:           vibronic~~\n",
      "Output:          ibronicvay~~~\n",
      "Correct Output:  ibronicvay~~~\n",
      " \n"
     ]
    },
    {
     "name": "stderr",
     "output_type": "stream",
     "text": [
      " 66%|██████▌   | 6602/10001 [15:15<08:35,  6.59it/s]"
     ]
    },
    {
     "name": "stdout",
     "output_type": "stream",
     "text": [
      "loss:  0.0221823\n",
      "Input:           wursig~~~~\n",
      "Output:          ursigway~~~~~\n",
      "Correct Output:  ursigway~~~~~\n",
      " \n"
     ]
    },
    {
     "name": "stderr",
     "output_type": "stream",
     "text": [
      " 67%|██████▋   | 6702/10001 [15:29<08:15,  6.66it/s]"
     ]
    },
    {
     "name": "stdout",
     "output_type": "stream",
     "text": [
      "loss:  0.00581623\n",
      "Input:           hauhet~~~~\n",
      "Output:          auhethay~~~~~\n",
      "Correct Output:  auhethay~~~~~\n",
      " \n"
     ]
    },
    {
     "name": "stderr",
     "output_type": "stream",
     "text": [
      " 68%|██████▊   | 6802/10001 [15:43<07:59,  6.67it/s]"
     ]
    },
    {
     "name": "stdout",
     "output_type": "stream",
     "text": [
      "loss:  0.0294582\n",
      "Input:           carrero~~~\n",
      "Output:          arrerocay~~~~\n",
      "Correct Output:  arrerocay~~~~\n",
      " \n"
     ]
    },
    {
     "name": "stderr",
     "output_type": "stream",
     "text": [
      " 69%|██████▉   | 6902/10001 [15:57<07:51,  6.58it/s]"
     ]
    },
    {
     "name": "stdout",
     "output_type": "stream",
     "text": [
      "loss:  0.0635391\n",
      "Input:           overstep~~\n",
      "Output:          overstepway~~\n",
      "Correct Output:  overstepway~~\n",
      " \n"
     ]
    },
    {
     "name": "stderr",
     "output_type": "stream",
     "text": [
      " 70%|███████   | 7002/10001 [16:11<07:32,  6.63it/s]"
     ]
    },
    {
     "name": "stdout",
     "output_type": "stream",
     "text": [
      "loss:  0.0209803\n",
      "Input:           earthshine\n",
      "Output:          earthshineway\n",
      "Correct Output:  earthshineway\n",
      " \n"
     ]
    },
    {
     "name": "stderr",
     "output_type": "stream",
     "text": [
      " 71%|███████   | 7102/10001 [16:25<07:24,  6.52it/s]"
     ]
    },
    {
     "name": "stdout",
     "output_type": "stream",
     "text": [
      "loss:  0.0161009\n",
      "Input:           cabalah~~~\n",
      "Output:          abalahcay~~~~\n",
      "Correct Output:  abalahcay~~~~\n",
      " \n"
     ]
    },
    {
     "name": "stderr",
     "output_type": "stream",
     "text": [
      " 72%|███████▏  | 7202/10001 [16:38<06:57,  6.71it/s]"
     ]
    },
    {
     "name": "stdout",
     "output_type": "stream",
     "text": [
      "loss:  0.0169639\n",
      "Input:           haheim~~~~\n",
      "Output:          aheimhay~~~~~\n",
      "Correct Output:  aheimhay~~~~~\n",
      " \n"
     ]
    },
    {
     "name": "stderr",
     "output_type": "stream",
     "text": [
      " 73%|███████▎  | 7302/10001 [16:52<06:42,  6.71it/s]"
     ]
    },
    {
     "name": "stdout",
     "output_type": "stream",
     "text": [
      "loss:  0.00323543\n",
      "Input:           judg~~~~~~\n",
      "Output:          udgjay~~~~~~~\n",
      "Correct Output:  udgjay~~~~~~~\n",
      " \n"
     ]
    },
    {
     "name": "stderr",
     "output_type": "stream",
     "text": [
      " 74%|███████▍  | 7402/10001 [17:06<06:27,  6.70it/s]"
     ]
    },
    {
     "name": "stdout",
     "output_type": "stream",
     "text": [
      "loss:  0.0172077\n",
      "Input:           nzhistory~\n",
      "Output:          istorynzhay~~\n",
      "Correct Output:  istorynzhay~~\n",
      " \n"
     ]
    },
    {
     "name": "stderr",
     "output_type": "stream",
     "text": [
      " 75%|███████▌  | 7502/10001 [17:20<06:12,  6.71it/s]"
     ]
    },
    {
     "name": "stdout",
     "output_type": "stream",
     "text": [
      "loss:  0.0765051\n",
      "Input:           terrifying\n",
      "Output:          errifyingtay~\n",
      "Correct Output:  errifyingtay~\n",
      " \n"
     ]
    },
    {
     "name": "stderr",
     "output_type": "stream",
     "text": [
      " 76%|███████▌  | 7602/10001 [17:34<05:57,  6.70it/s]"
     ]
    },
    {
     "name": "stdout",
     "output_type": "stream",
     "text": [
      "loss:  0.00480869\n",
      "Input:           shayol~~~~\n",
      "Output:          ayolshay~~~~~\n",
      "Correct Output:  ayolshay~~~~~\n",
      " \n"
     ]
    },
    {
     "name": "stderr",
     "output_type": "stream",
     "text": [
      " 77%|███████▋  | 7702/10001 [17:48<05:44,  6.68it/s]"
     ]
    },
    {
     "name": "stdout",
     "output_type": "stream",
     "text": [
      "loss:  0.061703\n",
      "Input:           pot~~~~~~~\n",
      "Output:          otpay~~~~~~~~\n",
      "Correct Output:  otpay~~~~~~~~\n",
      " \n"
     ]
    },
    {
     "name": "stderr",
     "output_type": "stream",
     "text": [
      " 78%|███████▊  | 7802/10001 [18:02<05:26,  6.73it/s]"
     ]
    },
    {
     "name": "stdout",
     "output_type": "stream",
     "text": [
      "loss:  0.0119456\n",
      "Input:           cohortatio\n",
      "Output:          ohortatiocay~\n",
      "Correct Output:  ohortatiocay~\n",
      " \n"
     ]
    },
    {
     "name": "stderr",
     "output_type": "stream",
     "text": [
      " 79%|███████▉  | 7902/10001 [18:15<05:11,  6.75it/s]"
     ]
    },
    {
     "name": "stdout",
     "output_type": "stream",
     "text": [
      "loss:  0.00439903\n",
      "Input:           preceding~\n",
      "Output:          ecedingpray~~\n",
      "Correct Output:  ecedingpray~~\n",
      " \n"
     ]
    },
    {
     "name": "stderr",
     "output_type": "stream",
     "text": [
      " 80%|████████  | 8002/10001 [18:29<05:02,  6.61it/s]"
     ]
    },
    {
     "name": "stdout",
     "output_type": "stream",
     "text": [
      "loss:  0.00507624\n",
      "Input:           watc~~~~~~\n",
      "Output:          atcway~~~~~~~\n",
      "Correct Output:  atcway~~~~~~~\n",
      " \n"
     ]
    },
    {
     "name": "stderr",
     "output_type": "stream",
     "text": [
      " 81%|████████  | 8102/10001 [18:43<04:43,  6.69it/s]"
     ]
    },
    {
     "name": "stdout",
     "output_type": "stream",
     "text": [
      "loss:  0.00885867\n",
      "Input:           wacho~~~~~\n",
      "Output:          achoway~~~~~~\n",
      "Correct Output:  achoway~~~~~~\n",
      " \n"
     ]
    },
    {
     "name": "stderr",
     "output_type": "stream",
     "text": [
      " 82%|████████▏ | 8202/10001 [18:57<04:27,  6.72it/s]"
     ]
    },
    {
     "name": "stdout",
     "output_type": "stream",
     "text": [
      "loss:  0.00653249\n",
      "Input:           oya~~~~~~~\n",
      "Output:          oyaway~~~~~~~\n",
      "Correct Output:  oyaway~~~~~~~\n",
      " \n"
     ]
    },
    {
     "name": "stderr",
     "output_type": "stream",
     "text": [
      " 83%|████████▎ | 8302/10001 [19:11<04:13,  6.70it/s]"
     ]
    },
    {
     "name": "stdout",
     "output_type": "stream",
     "text": [
      "loss:  0.00292199\n",
      "Input:           ided~~~~~~\n",
      "Output:          idedway~~~~~~\n",
      "Correct Output:  idedway~~~~~~\n",
      " \n"
     ]
    },
    {
     "name": "stderr",
     "output_type": "stream",
     "text": [
      " 84%|████████▍ | 8402/10001 [19:25<03:58,  6.69it/s]"
     ]
    },
    {
     "name": "stdout",
     "output_type": "stream",
     "text": [
      "loss:  0.042033\n",
      "Input:           apostolini\n",
      "Output:          apostoliniway\n",
      "Correct Output:  apostoliniway\n",
      " \n"
     ]
    },
    {
     "name": "stderr",
     "output_type": "stream",
     "text": [
      " 85%|████████▌ | 8502/10001 [19:39<03:43,  6.70it/s]"
     ]
    },
    {
     "name": "stdout",
     "output_type": "stream",
     "text": [
      "loss:  0.0023928\n",
      "Input:           rubles~~~~\n",
      "Output:          ublesray~~~~~\n",
      "Correct Output:  ublesray~~~~~\n",
      " \n"
     ]
    },
    {
     "name": "stderr",
     "output_type": "stream",
     "text": [
      " 86%|████████▌ | 8602/10001 [19:52<03:29,  6.68it/s]"
     ]
    },
    {
     "name": "stdout",
     "output_type": "stream",
     "text": [
      "loss:  0.0585883\n",
      "Input:           owada~~~~~\n",
      "Output:          owadaway~~~~~\n",
      "Correct Output:  owadaway~~~~~\n",
      " \n"
     ]
    },
    {
     "name": "stderr",
     "output_type": "stream",
     "text": [
      " 87%|████████▋ | 8702/10001 [20:06<03:16,  6.61it/s]"
     ]
    },
    {
     "name": "stdout",
     "output_type": "stream",
     "text": [
      "loss:  0.0459611\n",
      "Input:           sylacauga~\n",
      "Output:          acaugasylay~~\n",
      "Correct Output:  acaugasylay~~\n",
      " \n"
     ]
    },
    {
     "name": "stderr",
     "output_type": "stream",
     "text": [
      " 88%|████████▊ | 8802/10001 [20:20<02:59,  6.68it/s]"
     ]
    },
    {
     "name": "stdout",
     "output_type": "stream",
     "text": [
      "loss:  0.00238391\n",
      "Input:           msm~~~~~~~\n",
      "Output:          msmay~~~~~~~~\n",
      "Correct Output:  msmay~~~~~~~~\n",
      " \n"
     ]
    },
    {
     "name": "stderr",
     "output_type": "stream",
     "text": [
      " 89%|████████▉ | 8902/10001 [20:34<02:45,  6.65it/s]"
     ]
    },
    {
     "name": "stdout",
     "output_type": "stream",
     "text": [
      "loss:  0.0021305\n",
      "Input:           edp~~~~~~~\n",
      "Output:          edpway~~~~~~~\n",
      "Correct Output:  edpway~~~~~~~\n",
      " \n"
     ]
    },
    {
     "name": "stderr",
     "output_type": "stream",
     "text": [
      " 90%|█████████ | 9002/10001 [20:48<02:28,  6.71it/s]"
     ]
    },
    {
     "name": "stdout",
     "output_type": "stream",
     "text": [
      "loss:  0.00604852\n",
      "Input:           kudzu~~~~~\n",
      "Output:          udzukay~~~~~~\n",
      "Correct Output:  udzukay~~~~~~\n",
      " \n"
     ]
    },
    {
     "name": "stderr",
     "output_type": "stream",
     "text": [
      " 91%|█████████ | 9102/10001 [21:02<02:15,  6.62it/s]"
     ]
    },
    {
     "name": "stdout",
     "output_type": "stream",
     "text": [
      "loss:  0.00932008\n",
      "Input:           batam~~~~~\n",
      "Output:          atambay~~~~~~\n",
      "Correct Output:  atambay~~~~~~\n",
      " \n"
     ]
    },
    {
     "name": "stderr",
     "output_type": "stream",
     "text": [
      " 92%|█████████▏| 9202/10001 [21:16<01:58,  6.74it/s]"
     ]
    },
    {
     "name": "stdout",
     "output_type": "stream",
     "text": [
      "loss:  0.0711325\n",
      "Input:           beatman~~~\n",
      "Output:          eatmanbay~~~~\n",
      "Correct Output:  eatmanbay~~~~\n",
      " \n"
     ]
    },
    {
     "name": "stderr",
     "output_type": "stream",
     "text": [
      " 93%|█████████▎| 9302/10001 [21:30<01:44,  6.71it/s]"
     ]
    },
    {
     "name": "stdout",
     "output_type": "stream",
     "text": [
      "loss:  0.00198263\n",
      "Input:           libellous~\n",
      "Output:          ibellouslay~~\n",
      "Correct Output:  ibellouslay~~\n",
      " \n"
     ]
    },
    {
     "name": "stderr",
     "output_type": "stream",
     "text": [
      " 94%|█████████▍| 9402/10001 [21:43<01:29,  6.67it/s]"
     ]
    },
    {
     "name": "stdout",
     "output_type": "stream",
     "text": [
      "loss:  0.0122379\n",
      "Input:           ashtekar~~\n",
      "Output:          ashtekarway~~\n",
      "Correct Output:  ashtekarway~~\n",
      " \n"
     ]
    },
    {
     "name": "stderr",
     "output_type": "stream",
     "text": [
      " 95%|█████████▌| 9502/10001 [21:57<01:14,  6.68it/s]"
     ]
    },
    {
     "name": "stdout",
     "output_type": "stream",
     "text": [
      "loss:  0.00157204\n",
      "Input:           suuret~~~~\n",
      "Output:          uuretsay~~~~~\n",
      "Correct Output:  uuretsay~~~~~\n",
      " \n"
     ]
    },
    {
     "name": "stderr",
     "output_type": "stream",
     "text": [
      " 96%|█████████▌| 9602/10001 [22:11<00:59,  6.68it/s]"
     ]
    },
    {
     "name": "stdout",
     "output_type": "stream",
     "text": [
      "loss:  0.00577629\n",
      "Input:           hankuk~~~~\n",
      "Output:          ankukhay~~~~~\n",
      "Correct Output:  ankukhay~~~~~\n",
      " \n"
     ]
    },
    {
     "name": "stderr",
     "output_type": "stream",
     "text": [
      " 97%|█████████▋| 9702/10001 [22:25<00:44,  6.73it/s]"
     ]
    },
    {
     "name": "stdout",
     "output_type": "stream",
     "text": [
      "loss:  0.0035874\n",
      "Input:           samsung~~~\n",
      "Output:          amsungsay~~~~\n",
      "Correct Output:  amsungsay~~~~\n",
      " \n"
     ]
    },
    {
     "name": "stderr",
     "output_type": "stream",
     "text": [
      " 98%|█████████▊| 9802/10001 [22:39<00:30,  6.63it/s]"
     ]
    },
    {
     "name": "stdout",
     "output_type": "stream",
     "text": [
      "loss:  0.00221084\n",
      "Input:           elevations\n",
      "Output:          elevationsway\n",
      "Correct Output:  elevationsway\n",
      " \n"
     ]
    },
    {
     "name": "stderr",
     "output_type": "stream",
     "text": [
      " 99%|█████████▉| 9902/10001 [22:53<00:14,  6.61it/s]"
     ]
    },
    {
     "name": "stdout",
     "output_type": "stream",
     "text": [
      "loss:  0.00571501\n",
      "Input:           ammine~~~~\n",
      "Output:          ammineway~~~~\n",
      "Correct Output:  ammineway~~~~\n",
      " \n"
     ]
    },
    {
     "name": "stderr",
     "output_type": "stream",
     "text": [
      "100%|██████████| 10001/10001 [23:06<00:00,  6.48it/s]\n"
     ]
    },
    {
     "name": "stdout",
     "output_type": "stream",
     "text": [
      "loss:  0.00227702\n",
      "Input:           nobles~~~~\n",
      "Output:          oblesnay~~~~~\n",
      "Correct Output:  oblesnay~~~~~\n",
      " \n"
     ]
    }
   ],
   "source": [
    "num_steps = 10001\n",
    "for s in tqdm(range(num_steps)):\n",
    "    fd = {}\n",
    "    x,y = b.nextBatch(reverse=True)\n",
    "    for i in range(len(x[0,:,0])):\n",
    "        fd[input_sequence[i]] = x[:,i,:]\n",
    "    for i in range(len(y[0,:,0])):\n",
    "        fd[target_sequence[i]] = y[:,i,:]\n",
    "    \n",
    "    l,_ = sess.run([loss,opt],feed_dict = fd)\n",
    "    losses.append(l)\n",
    "    if s % 100 == 0:\n",
    "        translated = sess.run([pred],feed_dict=fd)[0]\n",
    "        #onlt check the first word\n",
    "        fw_o = np.ndarray((max_out,alphabet_size))\n",
    "        for i in range(max_out):\n",
    "            fw_o[i]=translated[i*batch_size]\n",
    "    \n",
    "        print 'loss: ',l\n",
    "        print 'Input:          ',unvectorizeWord(x[0])[::-1]\n",
    "        print 'Output:         ',unvectorizeWord(fw_o)\n",
    "        print 'Correct Output: ',unvectorizeWord(y[0])\n",
    "        print ' '\n",
    "save_path = saver.save(sess,os.getcwd()+'/model3.ckpt')"
   ]
  },
  {
   "cell_type": "code",
   "execution_count": 23,
   "metadata": {
    "collapsed": false,
    "deletable": true,
    "editable": true
   },
   "outputs": [
    {
     "data": {
      "text/plain": [
       "[<matplotlib.lines.Line2D at 0x7f6b51fcfbd0>]"
      ]
     },
     "execution_count": 23,
     "metadata": {},
     "output_type": "execute_result"
    },
    {
     "data": {
      "image/png": "[encoded data removed]",
      "text/plain": [
       "<matplotlib.figure.Figure at 0x7f6bac675b90>"
      ]
     },
     "metadata": {},
     "output_type": "display_data"
    }
   ],
   "source": [
    "plt.plot(losses)"
   ]
  },
  {
   "cell_type": "code",
   "execution_count": 24,
   "metadata": {
    "collapsed": false,
    "deletable": true,
    "editable": true
   },
   "outputs": [],
   "source": [
    "with g.as_default():\n",
    "    val_sequence = list()\n",
    "    for i in range(max_in+1):\n",
    "        val_sequence.append(tf.placeholder(tf.float32,shape=(1,alphabet_size)))\n",
    "    logits_val = model(val_sequence,train=False)\n",
    "    pred_val = tf.nn.softmax(logits_val)"
   ]
  },
  {
   "cell_type": "code",
   "execution_count": 25,
   "metadata": {
    "collapsed": false,
    "deletable": true,
    "editable": true
   },
   "outputs": [
    {
     "name": "stdout",
     "output_type": "stream",
     "text": [
      "Input:           abaya\n",
      "Output:          abayaway~~~~~\n",
      " \n",
      "Input:           bardolatry\n",
      "Output:          ardolatrybay~\n",
      " \n",
      "Input:           blatherski\n",
      "Output:          atherskiblay~\n",
      " \n",
      "Input:           couthy\n",
      "Output:          outhycay~~~~~\n",
      " \n",
      "Input:           deterge\n",
      "Output:          etergeday~~~~\n",
      " \n",
      "Input:           eyewater\n",
      "Output:          eyewaterway~~\n",
      " \n",
      "Input:           saudade\n",
      "Output:          audadesay~~~~\n",
      " \n",
      "Input:           tokoloshe\n",
      "Output:          okoloshetay~~\n",
      " \n",
      "Input:           wittol\n",
      "Output:          ittolway~~~~~\n",
      " \n",
      "Input:           vomitous\n",
      "Output:          omitousvay~~~\n",
      " \n",
      "Input:           waitron\n",
      "Output:          aitronway~~~~\n",
      " \n"
     ]
    }
   ],
   "source": [
    "#validation\n",
    "for s in range(len(uncommon)):\n",
    "    inputs = vectorizeWord(pad_in(uncommon[s][::-1]))\n",
    "    \n",
    "    fd = {}\n",
    "    for i in range(len(inputs)):\n",
    "        fd[val_sequence[i]] = np.expand_dims(inputs[i],0)\n",
    "    \n",
    "    translated = sess.run([pred_val],feed_dict=fd)[0]\n",
    "    print 'Input:          ',uncommon[s]\n",
    "    print 'Output:         ',unvectorizeWord(translated)\n",
    "    print ' '"
   ]
  },
  {
   "cell_type": "markdown",
   "metadata": {
    "collapsed": true,
    "deletable": true,
    "editable": true
   },
   "source": [
    "# Get Variables"
   ]
  },
  {
   "cell_type": "code",
   "execution_count": 32,
   "metadata": {
    "collapsed": true
   },
   "outputs": [],
   "source": [
    "model_params = sess.run([e1_var,e2_var,e3_var,d1_var,d2_var,d3_var,W_softmax,b_softmax])"
   ]
  },
  {
   "cell_type": "code",
   "execution_count": 33,
   "metadata": {
    "collapsed": false
   },
   "outputs": [],
   "source": [
    "pickle.dump(model_params,open('params.p','w'))"
   ]
  },
  {
   "cell_type": "code",
   "execution_count": null,
   "metadata": {
    "collapsed": true
   },
   "outputs": [],
   "source": []
  }
 ],
 "metadata": {
  "kernelspec": {
   "display_name": "Python [default]",
   "language": "python",
   "name": "python2"
  },
  "language_info": {
   "codemirror_mode": {
    "name": "ipython",
    "version": 2
   },
   "file_extension": ".py",
   "mimetype": "text/x-python",
   "name": "python",
   "nbconvert_exporter": "python",
   "pygments_lexer": "ipython2",
   "version": "2.7.13"
  }
 },
 "nbformat": 4,
 "nbformat_minor": 2
}
